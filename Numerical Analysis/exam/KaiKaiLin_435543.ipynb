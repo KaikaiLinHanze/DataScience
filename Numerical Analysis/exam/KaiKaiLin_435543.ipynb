{
 "cells": [
  {
   "cell_type": "markdown",
   "metadata": {},
   "source": [
    "# Data Science 2 (modeling)\n",
    "\n",
    "## Computer-exam BFVM19DATASC2 - Numerical Analysis\n",
    "\n",
    "### 2021-2022 - 1st opportunity, Fri. 22 Apr 2022, 08:30-10:00, ZP11/H1.122&D1.08\n",
    "\n",
    "#### Materials\n",
    "\n",
    "In the exam folder you will find the following required files:\n",
    "\n",
    "* This exam `BFVM19DATASC2_T_DS2NumAnal_2122_DSLS_LADR.ipynb`, also as `*.html`\n",
    "\n",
    "* Data file `rescue1.npz`\n",
    "\n",
    "All notes, textbooks and other written or digital reference materials are permitted. The use of communication media is not allowed.\n",
    "\n",
    "#### Instructions\n",
    "\n",
    "Provide your answers in the code cells corresponding with each of the questions below. Unless it is explicitly state otherwise, you are allowed to use any code, functions, or modules that you deem suitable. For those questions that require a textual answer rather than python code, you may either type your answer in the cell using a python comment or insert a text-markdown cell with your typeset answer.\n",
    "\n",
    "All questions have the possible number of points to be scored indicated. Your grade will be calculated as follows:\n",
    "\n",
    "$$\n",
    "\\text{Grade} = 1 + 9 \\cdot \\frac {\\text{Points Scored}} {\\text{Maximum Score}}\n",
    "$$\n",
    "\n",
    "Instructions on how to submit your answers are provided at the bottom.\n",
    "\n",
    "***"
   ]
  },
  {
   "cell_type": "markdown",
   "metadata": {},
   "source": [
    "## Michaelis–Menten enzyme kinetics\n",
    "\n",
    "<img src=\"https://ib.bioninja.com.au/_Media/substrate-and-active-site_med.jpeg\" width=\"35%\" height=\"35%\" />\n",
    "\n",
    "In biochemistry, [Michaelis–Menten kinetics](https://www.wikiwand.com/en/Michaelis%E2%80%93Menten_kinetics) is one of the best-known models of enzyme kinetics, named after German biochemist Leonor Michaelis and Canadian physician Maud Menten. The model takes the form of an equation describing the rate of enzymatic reactions, by relating the reaction rate $v$ of the conversion of substrate $S$ to its current concentration. Its formula is given by the *Michaelis–Menten equation*:\n",
    "\n",
    "$$\n",
    "v(S) = V_\\max \\cdot \\frac{S}{K_\\text{M} + S}\n",
    "$$\n",
    "\n",
    "Here, $V_\\max$ represents the maximum reaction rate achieved by the system, happening at saturating substrate concentration. When the substrate concentration is equal to the Michaelis constant $K_\\text{M}$, then the conversion rate is half of $V_\\max$.\n",
    "\n",
    "<img src=\"https://upload.wikimedia.org/wikipedia/commons/thumb/8/83/Michaelis_Menten_curve_2.svg/480px-Michaelis_Menten_curve_2.svg.png\" />"
   ]
  },
  {
   "cell_type": "code",
   "execution_count": 2,
   "metadata": {},
   "outputs": [],
   "source": [
    "%matplotlib inline\n",
    "from matplotlib import pyplot as plt\n",
    "import numpy as np"
   ]
  },
  {
   "cell_type": "markdown",
   "metadata": {},
   "source": [
    "### Question 1\n",
    "\n",
    "*Threonine deaminase* is an enzyme responsible for catalyzing the conversion of L-threonine into $\\alpha$-ketobutyrate and ammonia. For a given preparation, its reaction kinetics are characterized by the following parameters (expressed in hexadecimal scientific notation, in similar form as that returned by the `hex()` function):\n",
    "\n",
    "* $V_\\max$ [mmol/Ls]:<br />`0x1.400p+0`\n",
    "\n",
    "* $K_\\text{M}$ [mmol/Ls]:<br />`0x1.d00p-1`\n",
    "\n",
    "#### Question 1a <small>[5 pts]</small>\n",
    "\n",
    "Convert the above expressions for $V_\\max$ and $K_\\text{M}$ to decimal values and store these in variables `Vmax` and `KM`."
   ]
  },
  {
   "cell_type": "code",
   "execution_count": 64,
   "metadata": {},
   "outputs": [
    {
     "name": "stdout",
     "output_type": "stream",
     "text": [
      "1.25\n",
      "0.90625\n"
     ]
    }
   ],
   "source": [
    "# ENTER YOUR SOLUTION HERE\n",
    "Vmax = float.fromhex('0x1.400p+0')\n",
    "print(Vmax)\n",
    "KM = float.fromhex('0x1.d00p-1')\n",
    "print(KM)"
   ]
  },
  {
   "cell_type": "markdown",
   "metadata": {},
   "source": [
    "<div class=\"alert alert-danger\">\n",
    "If you did not succeed in solving the previous question, then set `Vmax = 1.0` and `KM = 1.0` instead and continue with these values.\n",
    "</div>\n",
    "\n",
    "#### Question 1b <small>[10 pts]</small>\n",
    "\n",
    "Define a 256-element array `time` with values for $t$ from `0.0` to `5.1` [s] in steps $h$ of size `0.02` [s]. Integrate the Michaelis-Menten differential equation\n",
    "\n",
    "$$\n",
    "\\frac{\\text{d}S}{\\text{d}t} = -V_\\max \\cdot \\frac{S}{K_\\text{M} + S}\n",
    "$$\n",
    "\n",
    "using the 4<sup>th</sup>-order Runge-Kutta method with a starting value $S(0) = 1.0$ [mmol/L] at $t=0$ [s] to yield the amount of substrate $S(t)$ in a corresponding 256-element array `S_RK4`."
   ]
  },
  {
   "cell_type": "code",
   "execution_count": 88,
   "metadata": {},
   "outputs": [
    {
     "data": {
      "text/plain": [
       "[<matplotlib.lines.Line2D at 0x7f7f1980c850>]"
      ]
     },
     "execution_count": 88,
     "metadata": {},
     "output_type": "execute_result"
    },
    {
     "data": {
      "image/png": "[encoded data removed]",
      "text/plain": [
       "<Figure size 432x288 with 1 Axes>"
      ]
     },
     "metadata": {
      "needs_background": "light"
     },
     "output_type": "display_data"
    }
   ],
   "source": [
    "# ENTER YOUR SOLUTION HERE\n",
    "def runge_kutta(f, y0, x0, x1, steps):\n",
    "    \"\"\"xs, ys = runge_kutta(f, y0, x0, x1, steps).\n",
    "    4th-order Runge-Kutta method for solving the\n",
    "    initial value problem {y}' = {f(x,{y})},\n",
    "    where {y} = {y[0],y[1],...,y[n-1]}.\n",
    "    x0, y0 = initial conditions\n",
    "    x1     = terminal value of x\n",
    "    steps  = number of integration steps\n",
    "    f      = user-supplied function that returns the\n",
    "             array f(x,y) = {y’[0],y’[1],...,y’[n-1]}.\n",
    "    \"\"\"\n",
    "    h = (x1 - x0) / steps\n",
    "    xs = np.linspace(x0, x1, steps + 1)\n",
    "    y = y0\n",
    "    ys = [y]\n",
    "    for x in xs[:-1]:\n",
    "        k0 = h * f(x,y)\n",
    "        k1 = h * f(x + (0.5 * h) , y + (0.5 * k0))\n",
    "        k2 = h * f(x + (0.5 * h) , y + (0.5 * k1))\n",
    "        k3 = h * f(x + h , y + k2)\n",
    "        y = y + (k0 + (2*k1) + (2*k2) +k3) / 6\n",
    "        ys.append(y)\n",
    "    return xs, ys\n",
    "\n",
    "f = lambda t,y : np.array([-Vmax * y[0]/(KM+y[0])])\n",
    "x0 = 0.0\n",
    "x1 = 5.1\n",
    "h = 0.02\n",
    "steps = int((x1-x0)/h)\n",
    "y0 = [1]\n",
    "time,S_RK4=runge_kutta(f, y0, x0, x1, steps+1)\n",
    "S_RK4=[y[0] for y in S_RK4]\n",
    "plt.plot(time, S_RK4, 'r-', lw=2, label='Runge-Kutta')"
   ]
  },
  {
   "cell_type": "markdown",
   "metadata": {},
   "source": [
    "Alternatively, the Michaelis-Menten equation can be integrated analytically to find the implicit equation\n",
    "\n",
    "$$\n",
    "K_\\text{M}\\cdot\\ln(S) + S = 1 - V_\\max\\cdot t\n",
    "$$\n",
    "\n",
    "For any value $t$, this equation has exactly one unique solution for $S$, but this cannot be expressed in terms of elementary functions.\n",
    "\n",
    "<div class=\"alert alert-info\">\n",
    "<b>Note:</b> For your information, the derivation goes as follows:\n",
    "$$\n",
    "\\frac{\\text{d}S}{\\text{d}t} = -V_\\max \\frac{S}{K_\\text{M} + S}\n",
    "\\ \\Longleftrightarrow \\\n",
    "\\frac{K_\\text{M} + S}{S} \\text{d}S = -V_\\max \\text{d}t\n",
    "\\ \\Longleftrightarrow \\\n",
    "\\int\\left(\\frac{K_\\text{M}}{S}+1\\right)\\text{d}S = -\\int V_\\max\\text{d}t\n",
    "\\ \\Longleftrightarrow \\\n",
    "K_\\text{M}\\ln(S) + S = -V_\\max t + C\n",
    "$$\n",
    "in which the starting condition $S(0)=1$ at $t=0$ results in an integration constant $C=1$.\n",
    "</div>\n",
    "\n",
    "#### Question 1c <small>[10 pts]</small>\n",
    "\n",
    "Apply root finding using the bisection method to solve $S$ from the above equality for all values of $t$ in the array `time` to an accuracy of 12 decimals. Store the results in another 256-element array `S_bisect`.\n",
    "\n",
    "<div class=\"alert alert-success\">\n",
    "<b>Hint:</b> You are looking for solutions in a range $0 \\leq S \\leq 1$, but note that $\\ln(S)$ does not exist for $S=0$.\n",
    "</div>"
   ]
  },
  {
   "cell_type": "code",
   "execution_count": 108,
   "metadata": {},
   "outputs": [
    {
     "data": {
      "text/plain": [
       "[<matplotlib.lines.Line2D at 0x7f7f196ec4f0>]"
      ]
     },
     "execution_count": 108,
     "metadata": {},
     "output_type": "execute_result"
    },
    {
     "data": {
      "image/png": "[encoded data removed]",
      "text/plain": [
       "<Figure size 432x288 with 1 Axes>"
      ]
     },
     "metadata": {
      "needs_background": "light"
     },
     "output_type": "display_data"
    }
   ],
   "source": [
    "# ENTER YOUR SOLUTION HERE\n",
    "from scipy.interpolate import interp1d\n",
    "f1=interp1d(time,S_RK41,'cubic')\n",
    "\n",
    "f = lambda x : -(KM*np.log(f1(x))+ f1(x) -1)/ (Vmax * x)\n",
    "\n",
    "def bisection(f, a, b, tol=1e-12):\n",
    "    \"\"\"root = bisection(f, a, b, tol=...).\n",
    "    Finds a root of f(x) = 0 by bisection.\n",
    "    The root must be bracketed in (a,b).\n",
    "    \"\"\"\n",
    "    lo, f_lo = a, f(a)\n",
    "    if f_lo == 0.0:\n",
    "        return lo\n",
    "    hi, f_hi = b, f(b)\n",
    "    if f_hi == 0.0:\n",
    "        return hi\n",
    "    #if f_lo * f_hi > 0.0:\n",
    "     #   raise ValueError('Root is not bracketed')\n",
    "    while abs(hi - lo) > tol:\n",
    "        md = (hi + lo) / 2\n",
    "        if f(md) == 0:\n",
    "            return md\n",
    "        if f(md) * f(hi) < 0:\n",
    "            lo = md\n",
    "        else:\n",
    "            hi = md\n",
    "    return (lo + hi) / 2.0\n",
    "S = np.linspace(1e-10,1.37,256)\n",
    "plt.plot(time,S[::-1])"
   ]
  },
  {
   "cell_type": "code",
   "execution_count": 47,
   "metadata": {},
   "outputs": [
    {
     "name": "stdout",
     "output_type": "stream",
     "text": [
      "254\n"
     ]
    }
   ],
   "source": []
  },
  {
   "cell_type": "markdown",
   "metadata": {},
   "source": [
    "<div class=\"alert alert-danger\">\n",
    "<b>Note:</b> If you did not succeed in solving Part 1, you may continue Part 2 using the data in the provided file `rescue1.npz` by uncommenting the cell below. However, you will not receive full credit for the previous questions then.\n",
    "</div>"
   ]
  },
  {
   "cell_type": "code",
   "execution_count": 79,
   "metadata": {},
   "outputs": [],
   "source": [
    "# # NOTE: ONLY UNCOMMENT THIS CELL IF YOU DID NOT SOLVE PART 1 YOURSELF !!!\n",
    "rescue1 = np.load('./rescue1.npz'); S_RK4, S_bisect = rescue1['S_RK4'], rescue1['S_bisect']"
   ]
  },
  {
   "cell_type": "markdown",
   "metadata": {},
   "source": [
    "### Question 2\n",
    "\n",
    "As the reaction proceeds, the amount of substrate decreases to zero. Below, both your solution according to Runge-Kutta and according to bisection are plotted on the left. If your calculations were correct, these curves will appear to coincide.\n",
    "\n",
    "However, when looking more closely, these two curves deviate slightly. We can visualize this by plotting their difference $\\Delta = \\left| S_\\text{RK4} - S_\\text{bisect}\\right|$, as seen on the right."
   ]
  },
  {
   "cell_type": "code",
   "execution_count": 55,
   "metadata": {},
   "outputs": [
    {
     "data": {
      "image/png": "[encoded data removed]",
      "text/plain": [
       "<Figure size 864x288 with 2 Axes>"
      ]
     },
     "metadata": {
      "needs_background": "light"
     },
     "output_type": "display_data"
    }
   ],
   "source": [
    "from scipy.interpolate import interp1d\n",
    "delta = interp1d(time, np.abs(S_RK4-S_bisect), 'cubic')\n",
    "\n",
    "plt.figure(figsize=(12, 4))\n",
    "plt.subplot(1, 2, 1); plt.axhline(0.0, color='k', lw=0.5)\n",
    "plt.plot(time, S_RK4, 'r-', lw=2, label='Runge-Kutta')\n",
    "plt.plot(time, S_bisect, 'b:', lw=3, label='Bisection')\n",
    "plt.xlabel('$t$ [s]'); plt.ylabel('$S$ [mmol/L]')\n",
    "plt.title('Substrate concentration $S(t)$'); plt.legend()\n",
    "plt.subplot(1, 2, 2); plt.axhline(0.0, color='k', lw=0.5)\n",
    "plt.plot(time, delta(time), 'c', label='delta')\n",
    "plt.xlabel('$t$ [s]'); plt.ylabel('$\\Delta$ [mmol/L]')\n",
    "plt.title('Difference $\\Delta(t)$'); plt.legend(); plt.show()"
   ]
  },
  {
   "cell_type": "markdown",
   "metadata": {},
   "source": [
    "#### Question 2a <small>[10 pts]</small>\n",
    "\n",
    "Using an appropriate algorithm of your own choice, determine with at least 3 decimals accuracy at what time $t_\\max$ the callable difference function `delta(t)` that is defined in the previous cell achieves its maximum. Evaluate and print the corresponding maximal difference $\\Delta(t_\\max)$."
   ]
  },
  {
   "cell_type": "code",
   "execution_count": 60,
   "metadata": {},
   "outputs": [
    {
     "data": {
      "text/plain": [
       "1.5428792965455074e-10"
      ]
     },
     "execution_count": 60,
     "metadata": {},
     "output_type": "execute_result"
    }
   ],
   "source": [
    "# ENTER YOUR SOLUTION HERE\n",
    "def secant(f, a, b, tol=...):\n",
    "    \"\"\"root = secant(f, a, b, tol=...).\n",
    "    Finds a root of f(x) = 0 by the secant method.\n",
    "    \"\"\"\n",
    "    x1 = a\n",
    "    f1 = f(x1)\n",
    "    if f1 == 0:\n",
    "        return x1\n",
    "    x2 = b\n",
    "    f2 = f(x2)\n",
    "    if f2 == 0:\n",
    "        return x2\n",
    "    while abs(x2-x1) > tol:\n",
    "        x3 = (f1 * x2 - f2 *x1)/ (f1-f2)\n",
    "        f3 = f(x3)\n",
    "        if f3 == 0:\n",
    "            return x3\n",
    "        x1,x2,f1,f2=x2,x3,f2,f3\n",
    "    return x2\n",
    "f = lambda x : (S_RK4-S_bisect) * x\n",
    "secant()"
   ]
  },
  {
   "cell_type": "markdown",
   "metadata": {},
   "source": [
    "#### Question 2b <small>[5 pts]</small>\n",
    "\n",
    "Which of the estimates for the curve $S(t)$ is most accurate in this case: `S_RK4` according to the 4<sup>th</sup>-order Runge-Kutta method, or `S_bisect` according to the bisection method? Motivate your answer."
   ]
  },
  {
   "cell_type": "code",
   "execution_count": null,
   "metadata": {},
   "outputs": [],
   "source": [
    "# ENTER YOUR SOLUTION HERE\n"
   ]
  },
  {
   "cell_type": "markdown",
   "metadata": {},
   "source": [
    "### Question 3\n",
    "\n",
    "#### Question 3a <small>[10 pts]</small>\n",
    "\n",
    "Using only the available values in either the array `S_RK4` or `S_bisect`, determine the reaction rate\n",
    "\n",
    "$$\n",
    "v = -\\frac{\\text{d}S}{\\text{d}t}\n",
    "$$\n",
    "\n",
    "using the *central difference approximation* at all the time points in the array `time`. Store the result in a corresponding 256-element array `rate`. For the first and last element in the array that only have one neighboring data point, use the *forward* or *backward approximation*."
   ]
  },
  {
   "cell_type": "code",
   "execution_count": 81,
   "metadata": {},
   "outputs": [
    {
     "ename": "SyntaxError",
     "evalue": "invalid syntax (3436652217.py, line 25)",
     "output_type": "error",
     "traceback": [
      "\u001b[0;36m  File \u001b[0;32m\"/tmp/ipykernel_1107778/3436652217.py\"\u001b[0;36m, line \u001b[0;32m25\u001b[0m\n\u001b[0;31m    f = lambda x: - S_RK4 / x\u001b[0m\n\u001b[0m    ^\u001b[0m\n\u001b[0;31mSyntaxError\u001b[0m\u001b[0;31m:\u001b[0m invalid syntax\n"
     ]
    }
   ],
   "source": [
    "# ENTER YOUR SOLUTION HERE\n",
    "def forward_derivative(f, x, h=...):\n",
    "    \"\"\"df = forward_derivative(f, x, h).\n",
    "    Calculates the forward difference approximation of the\n",
    "    function f(x).\n",
    "    \"\"\"\n",
    "    df = (f(x+h) - f(x)) / h\n",
    "    return df\n",
    "\n",
    "def backward_derivative(f, x, h=...):\n",
    "    \"\"\"df = forward_derivative(f, x, h).\n",
    "    Calculates the backward difference approximation of the\n",
    "    function f(x).\n",
    "    \"\"\"\n",
    "    df = (f(x) - f(x-h)) / h\n",
    "    return df\n",
    "\n",
    "def central_derivative(f, x, h=...):\n",
    "    \"\"\"df = central_derivative(f, x, h).\n",
    "    Calculates the central difference approximation of the\n",
    "    function f(x).\n",
    "    \"\"\"\n",
    "    df = (f(x+h)\n",
    "\n",
    "f = lambda x: - S_RK4 / x\n",
    "for i in range(len(S_RK4)):\n",
    "    if i == 0:\n",
    "        v = forward_derivative(f, time, h)\n",
    "    elif i == (len(S_RK4))-1):\n",
    "        v = backward_derivative(f, time, h)\n",
    "    else:\n",
    "        v = central_derivative(f, time, h)\n",
    "\n"
   ]
  },
  {
   "cell_type": "markdown",
   "metadata": {},
   "source": [
    "#### Question 3b <small>[10 pts]</small>\n",
    "\n",
    "Using only the available values in either the array `S_RK4` or `S_bisect`, determine the total amount of reaction product $P$ [mmol/L] that is produced during the studied 5.1-second interval according to\n",
    "\n",
    "$$\n",
    "P = \\int_{0.0}^{5.1} v(t) \\text{d}t = V_\\max \\cdot \\int_{0.0}^{5.1} \\frac{S}{K_\\text{M} + S} \\text{d}t\n",
    "$$\n",
    "\n",
    "using numerical integration based on the *composite Simpson's 1/3 rule*. Print the result with 3 decimal digits."
   ]
  },
  {
   "cell_type": "code",
   "execution_count": 51,
   "metadata": {},
   "outputs": [
    {
     "ename": "SyntaxError",
     "evalue": "invalid syntax (4265471710.py, line 20)",
     "output_type": "error",
     "traceback": [
      "\u001b[0;36m  File \u001b[0;32m\"/tmp/ipykernel_4408/4265471710.py\"\u001b[0;36m, line \u001b[0;32m20\u001b[0m\n\u001b[0;31m    print({.3f}.format(simpson(f, 0, 5.1, n=50))\u001b[0m\n\u001b[0m             ^\u001b[0m\n\u001b[0;31mSyntaxError\u001b[0m\u001b[0;31m:\u001b[0m invalid syntax\n"
     ]
    }
   ],
   "source": [
    "# ENTER YOUR SOLUTION HERE\n",
    "from scipy.integrate import simpson\n",
    "f = lambda t: S_RK4 / (KM + S_RK4) * Vmax\n",
    "def simpson(f, a, b, n=...):\n",
    "    \"\"\"df = simpson(f, a, b, n=...).\n",
    "    Calculates the definite integral of the function f(x)\n",
    "    from a to b using the composite Simpson's\n",
    "    rule with n subdivisions (with default n=...).\n",
    "    \"\"\"\n",
    "    n += n % 2\n",
    "    h = (b-a) / n\n",
    "    I = f(a) + f(b)\n",
    "    for i in range(1,n):\n",
    "        if i % 2 == 0:\n",
    "            I += 2 * f( a + h * i)\n",
    "        elif i % 2 == 1:\n",
    "            I += 4 * f( a + h * i)\n",
    "    I *= (h/3)\n",
    "    return I\n",
    "print('{.3f}'.format(simpson(f, 0, 5.1, n=50))"
   ]
  },
  {
   "cell_type": "markdown",
   "metadata": {},
   "source": [
    "### Question 4\n",
    "\n",
    "During the lessons, at some point your teacher made a mistake when explaining the 4<sup>th</sup>-order Runge-Kutta method. He initially showed a method that is fully characterized by the coefficients in the third row of the following table:\n",
    "\n",
    "| Method | Order | $\\boldsymbol{c}$ | $\\boldsymbol{q}$ |\n",
    "| :-- | :-: | :-: | :-: |\n",
    "| Euler's | 1 | $1$ | $\\times$ |\n",
    "| Heun's | 2 | $\\frac{1}{2}$, $\\frac{1}{2}$ | $1$ |\n",
    "| Teacher's | $\\ldots$ | $\\frac{1}{6}$, $\\frac{1}{6}$, $\\frac{1}{3}$, $\\frac{1}{3}$ | $\\begin{array}{ccc} 1 & & \\\\ 0 & \\frac{1}{2} & \\\\ 0 & 0 & \\frac{1}{2} \\end{array}$ |\n",
    "| Runge-Kutta's | 4 | $\\frac{1}{6}$, $\\frac{1}{3}$, $\\frac{1}{3}$, $\\frac{1}{6}$ | $\\begin{array}{ccc} \\frac{1}{2} & & \\\\ 0 & \\frac{1}{2} & \\\\ 0 & 0 & 1 \\end{array}$ |\n",
    "\n",
    "#### Question 4a <small>[10 pts]</small>\n",
    "\n",
    "Complete the following function to implement this *Teacher's method*. The result should be a pair of lists with all the values of $x_i$ and $\\boldsymbol{y}_i$, respectively, with $i$ ranging from zero to the number of steps.\n",
    "\n",
    "```python\n",
    "def teacher(f, y0, x0, x1, steps):\n",
    "    \"\"\"xs, ys = teacher(f, y0, x0, x1, steps).\n",
    "    Teacher's mistaken method for solving the\n",
    "    initial value problem {y}' = {f(x,{y})},\n",
    "    where {y} = {y[0],y[1],...,y[n-1]}.\n",
    "    x0, y0 = initial conditions\n",
    "    x1     = terminal value of x\n",
    "    steps  = number of integration steps\n",
    "    f      = user-supplied function that returns the\n",
    "             array f(x,y) = {y’[0],y’[1],...,y’[n-1]}.\n",
    "    \"\"\"\n",
    "    pass   # ADD YOUR OWN CODE HERE\n",
    "    return xs, ys\n",
    "```"
   ]
  },
  {
   "cell_type": "code",
   "execution_count": null,
   "metadata": {},
   "outputs": [],
   "source": [
    "# ENTER YOUR SOLUTION HERE\n",
    "def teacher(f, y0, x0, x1, steps):\n",
    "    \"\"\"xs, ys = teacher(f, y0, x0, x1, steps).\n",
    "    Teacher's mistaken method for solving the\n",
    "    initial value problem {y}' = {f(x,{y})},\n",
    "    where {y} = {y[0],y[1],...,y[n-1]}.\n",
    "    x0, y0 = initial conditions\n",
    "    x1     = terminal value of x\n",
    "    steps  = number of integration steps\n",
    "    f      = user-supplied function that returns the\n",
    "             array f(x,y) = {y’[0],y’[1],...,y’[n-1]}.\n",
    "    \"\"\"\n",
    "    h = (x1 - x0) / steps\n",
    "    xs = np.linspace(x0, x1, steps + 1)\n",
    "    y = y0\n",
    "    ys = [y]\n",
    "    for x in xs[:-1]:\n",
    "        k0 = h * f(x,y)\n",
    "        k1 = h * f(x + h , y + k0)\n",
    "        k2 = h * f(x + (0.5 * h) , y + (0.5 * k1))\n",
    "        k3 = h * f(x + (0.5 * h), y + (0.5 * k2))\n",
    "        y = y + (k0 + k1 + (2*k2) + (2*k3)) / 6\n",
    "        ys.append(y)\n",
    "    return xs, ys\n"
   ]
  },
  {
   "cell_type": "markdown",
   "metadata": {},
   "source": [
    "#### Question 4b <small>[10 pts]</small>\n",
    "\n",
    "Empirically determine the *order* of convergence of this method. Do you consider this method to be viable (i.e., can you envisage using it might be appropriate)? Explain your answer."
   ]
  },
  {
   "cell_type": "code",
   "execution_count": null,
   "metadata": {},
   "outputs": [],
   "source": [
    "# ENTER YOUR SOLUTION HERE\n",
    "This is a 4 order method.\n",
    "I think it is workable, it combine different step of deverivate y.\n"
   ]
  },
  {
   "cell_type": "markdown",
   "metadata": {},
   "source": [
    "***\n",
    "\n",
    "<div class=\"alert alert-warning\">\n",
    "<b>After finishing:</b>\n",
    "<ol><li>\n",
    "Rename your notebook with your name and student number, like `JaneDoe_123456`, using the menu option `File` > `Rename`.\n",
    "</li><li>\n",
    "Evaluate the notebook by means of the menu option `Kernel` > `Restart & Run All` and check that your notebook runs without errors.\n",
    "</li><li>\n",
    "Save the evaluated notebook using the menu option `File` > `Save and Checkpoint`.\n",
    "</li><li>\n",
    "Submit your evaluated notebook by clicking the title of the BlackBoard assignment, attaching it, and clicking the submission button.\n",
    "</li><li>\n",
    "After getting clearance from the exam supervisor, you are free to leave.\n",
    "</li></ol>\n",
    "</div>\n",
    "\n",
    "#### Success!"
   ]
  }
 ],
 "metadata": {
  "kernelspec": {
   "display_name": "Python 3 (ipykernel)",
   "language": "python",
   "name": "python3"
  },
  "language_info": {
   "codemirror_mode": {
    "name": "ipython",
    "version": 3
   },
   "file_extension": ".py",
   "mimetype": "text/x-python",
   "name": "python",
   "nbconvert_exporter": "python",
   "pygments_lexer": "ipython3",
   "version": "3.8.12"
  }
 },
 "nbformat": 4,
 "nbformat_minor": 2
}
