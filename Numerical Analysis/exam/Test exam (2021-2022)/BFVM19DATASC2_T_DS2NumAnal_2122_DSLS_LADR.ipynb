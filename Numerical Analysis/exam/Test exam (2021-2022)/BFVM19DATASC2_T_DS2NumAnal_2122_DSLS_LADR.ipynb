{
 "cells": [
  {
   "cell_type": "markdown",
   "metadata": {},
   "source": [
    "# Data Science 2 (modeling)\n",
    "\n",
    "## Computer-exam BFVM19DATASC2 - Numerical Analysis\n",
    "\n",
    "### 2021-2022 - 1st opportunity, Fri. 22 Apr 2022, 08:30-10:00, ZP11/H1.122&D1.08\n",
    "\n",
    "#### Materials\n",
    "\n",
    "In the exam folder you will find the following required files:\n",
    "\n",
    "* This exam `BFVM19DATASC2_T_DS2NumAnal_2122_DSLS_LADR.ipynb`, also as `*.html`\n",
    "\n",
    "* Data file `rescue1.npz`\n",
    "\n",
    "All notes, textbooks and other written or digital reference materials are permitted. The use of communication media is not allowed.\n",
    "\n",
    "#### Instructions\n",
    "\n",
    "Provide your answers in the code cells corresponding with each of the questions below. Unless it is explicitly state otherwise, you are allowed to use any code, functions, or modules that you deem suitable. For those questions that require a textual answer rather than python code, you may either type your answer in the cell using a python comment or insert a text-markdown cell with your typeset answer.\n",
    "\n",
    "All questions have the possible number of points to be scored indicated. Your grade will be calculated as follows:\n",
    "\n",
    "$$\n",
    "\\text{Grade} = 1 + 9 \\cdot \\frac {\\text{Points Scored}} {\\text{Maximum Score}}\n",
    "$$\n",
    "\n",
    "Instructions on how to submit your answers are provided at the bottom.\n",
    "\n",
    "***"
   ]
  },
  {
   "cell_type": "markdown",
   "metadata": {},
   "source": [
    "## Michaelis–Menten enzyme kinetics\n",
    "\n",
    "<img src=\"https://ib.bioninja.com.au/_Media/substrate-and-active-site_med.jpeg\" width=\"35%\" height=\"35%\" />\n",
    "\n",
    "In biochemistry, [Michaelis–Menten kinetics](https://www.wikiwand.com/en/Michaelis%E2%80%93Menten_kinetics) is one of the best-known models of enzyme kinetics, named after German biochemist Leonor Michaelis and Canadian physician Maud Menten. The model takes the form of an equation describing the rate of enzymatic reactions, by relating the reaction rate $v$ of the conversion of substrate $S$ to its current concentration. Its formula is given by the *Michaelis–Menten equation*:\n",
    "\n",
    "$$\n",
    "v(S) = V_\\max \\cdot \\frac{S}{K_\\text{M} + S}\n",
    "$$\n",
    "\n",
    "Here, $V_\\max$ represents the maximum reaction rate achieved by the system, happening at saturating substrate concentration. When the substrate concentration is equal to the Michaelis constant $K_\\text{M}$, then the conversion rate is half of $V_\\max$.\n",
    "\n",
    "<img src=\"https://upload.wikimedia.org/wikipedia/commons/thumb/8/83/Michaelis_Menten_curve_2.svg/480px-Michaelis_Menten_curve_2.svg.png\" />"
   ]
  },
  {
   "cell_type": "code",
   "execution_count": 38,
   "metadata": {},
   "outputs": [],
   "source": [
    "%matplotlib inline\n",
    "from matplotlib import pyplot as plt\n",
    "import numpy as np"
   ]
  },
  {
   "cell_type": "markdown",
   "metadata": {},
   "source": [
    "### Question 1\n",
    "\n",
    "*Threonine deaminase* is an enzyme responsible for catalyzing the conversion of L-threonine into $\\alpha$-ketobutyrate and ammonia. For a given preparation, its reaction kinetics are characterized by the following parameters (expressed in hexadecimal scientific notation, in similar form as that returned by the `hex()` function):\n",
    "\n",
    "* $V_\\max$ [mmol/Ls]:<br />`0x1.400p+0`\n",
    "\n",
    "* $K_\\text{M}$ [mmol/Ls]:<br />`0x1.d00p-1`\n",
    "\n",
    "#### Question 1a <small>[5 pts]</small>\n",
    "\n",
    "Convert the above expressions for $V_\\max$ and $K_\\text{M}$ to decimal values and store these in variables `Vmax` and `KM`."
   ]
  },
  {
   "cell_type": "code",
   "execution_count": 39,
   "metadata": {},
   "outputs": [
    {
     "name": "stdout",
     "output_type": "stream",
     "text": [
      "1.25\n",
      "0.90625\n"
     ]
    }
   ],
   "source": [
    "Vmax = float.fromhex('0x1.400p+0')\n",
    "print(Vmax)\n",
    "KM = float.fromhex('0x1.d00p-1')\n",
    "print(KM)"
   ]
  },
  {
   "cell_type": "markdown",
   "metadata": {},
   "source": [
    "<div class=\"alert alert-danger\">\n",
    "If you did not succeed in solving the previous question, then set `Vmax = 1.0` and `KM = 1.0` instead and continue with these values.\n",
    "</div>\n",
    "\n",
    "#### Question 1b <small>[10 pts]</small>\n",
    "\n",
    "Define a 256-element array `time` with values for $t$ from `0.0` to `5.1` [s] in steps $h$ of size `0.02` [s]. Integrate the Michaelis-Menten differential equation\n",
    "\n",
    "$$\n",
    "\\frac{\\text{d}S}{\\text{d}t} = -V_\\max \\cdot \\frac{S}{K_\\text{M} + S}\n",
    "$$\n",
    "\n",
    "using the 4<sup>th</sup>-order Runge-Kutta method with a starting value $S(0) = 1.0$ [mmol/L] at $t=0$ [s] to yield the amount of substrate $S(t)$ in a corresponding 256-element array `S_RK4`."
   ]
  },
  {
   "cell_type": "code",
   "execution_count": 40,
   "metadata": {},
   "outputs": [
    {
     "data": {
      "text/plain": [
       "[<matplotlib.lines.Line2D at 0x7fd419cb9730>]"
      ]
     },
     "execution_count": 40,
     "metadata": {},
     "output_type": "execute_result"
    },
    {
     "data": {
      "image/png": "[encoded data removed]",
      "text/plain": [
       "<Figure size 432x288 with 1 Axes>"
      ]
     },
     "metadata": {
      "needs_background": "light"
     },
     "output_type": "display_data"
    }
   ],
   "source": [
    "times = np.linspace(0,5.1,256)\n",
    "S = 1\n",
    "f = lambda s : -Vmax * s / (KM+s)\n",
    "h = 0.02\n",
    "S_RK4 = [S]\n",
    "for x in times[:-1]:\n",
    "    k0 = h * f(S)\n",
    "    k1 = h * f(S + (0.5 * h))\n",
    "    k2 = h * f(S + (0.5 * h))\n",
    "    k3 = h * f(S + h)\n",
    "    S = S + (k0 + (2*k1) + (2*k2) +k3) / 6\n",
    "    S_RK4.append(S)\n",
    "plt.plot(times, S_RK4)"
   ]
  },
  {
   "cell_type": "code",
   "execution_count": 41,
   "metadata": {},
   "outputs": [
    {
     "data": {
      "text/plain": [
       "[<matplotlib.lines.Line2D at 0x7fd3e86a7a90>]"
      ]
     },
     "execution_count": 41,
     "metadata": {},
     "output_type": "execute_result"
    },
    {
     "data": {
      "image/png": "[encoded data removed]",
      "text/plain": [
       "<Figure size 432x288 with 1 Axes>"
      ]
     },
     "metadata": {
      "needs_background": "light"
     },
     "output_type": "display_data"
    }
   ],
   "source": [
    "# how to solve by this method?\n",
    "def runge_kutta(f, y0, x0, x1, steps):\n",
    "    \"\"\"xs, ys = runge_kutta(f, y0, x0, x1, steps).\n",
    "    4th-order Runge-Kutta method for solving the\n",
    "    initial value problem {y}' = {f(x,{y})},\n",
    "    where {y} = {y[0],y[1],...,y[n-1]}.\n",
    "    x0, y0 = initial conditions\n",
    "    x1     = terminal value of x\n",
    "    steps  = number of integration steps\n",
    "    f      = user-supplied function that returns the\n",
    "             array f(x,y) = {y’[0],y’[1],...,y’[n-1]}.\n",
    "    \"\"\"\n",
    "    h = (x1 - x0) / steps\n",
    "    xs = np.linspace(x0, x1, steps + 1)\n",
    "    y = y0\n",
    "    ys = [y]\n",
    "    for x in xs[:-1]:\n",
    "        k0 = h * f(x,y)\n",
    "        k1 = h * f(x + (0.5 * h) , y + (0.5 * k0))\n",
    "        k2 = h * f(x + (0.5 * h) , y + (0.5 * k1))\n",
    "        k3 = h * f(x + h , y + k2)\n",
    "        y = y + (k0 + (2*k1) + (2*k2) +k3) / 6\n",
    "        ys.append(y)\n",
    "    return xs, ys\n",
    "f = lambda t,s : np.array(-Vmax * s / (KM + s))\n",
    "steps = int((5.1 - 0) / 0.02) +1\n",
    "x0, x1 = 0, 5.1\n",
    "y0 = np.array([1])\n",
    "times, S_RK4 = runge_kutta(f, y0, x0, x1, steps)\n",
    "plt.plot(times,S_RK4)"
   ]
  },
  {
   "cell_type": "code",
   "execution_count": 55,
   "metadata": {},
   "outputs": [
    {
     "data": {
      "text/plain": [
       "[1,\n",
       " 0.9869262328603466,\n",
       " 0.9739348489357136,\n",
       " 0.9610264606560078,\n",
       " 0.9482016781730772,\n",
       " 0.9354611090380114,\n",
       " 0.9228053578690544,\n",
       " 0.9102350260101493,\n",
       " 0.8977507111801527,\n",
       " 0.8853530071127795,\n",
       " 0.8730425031873564,\n",
       " 0.8608197840504886,\n",
       " 0.8486854292287643,\n",
       " 0.8366400127326489,\n",
       " 0.824684102651743,\n",
       " 0.8128182607416093,\n",
       " 0.8010430420023972,\n",
       " 0.7893589942495223,\n",
       " 0.777766657676693,\n",
       " 0.7662665644115978,\n",
       " 0.7548592380646066,\n",
       " 0.7435451932708651,\n",
       " 0.7323249352261962,\n",
       " 0.7211989592172569,\n",
       " 0.7101677501464285,\n",
       " 0.6992317820519576,\n",
       " 0.6883915176238924,\n",
       " 0.6776474077164019,\n",
       " 0.6669998908570908,\n",
       " 0.6564493927539647,\n",
       " 0.6459963258007301,\n",
       " 0.6356410885811473,\n",
       " 0.6253840653731909,\n",
       " 0.6152256256537995,\n",
       " 0.6051661236050316,\n",
       " 0.5952058976224748,\n",
       " 0.5853452698267798,\n",
       " 0.575584545579226,\n",
       " 0.5659240130022426,\n",
       " 0.5563639425058393,\n",
       " 0.5469045863209204,\n",
       " 0.5375461780404738,\n",
       " 0.5282889321696461,\n",
       " 0.5191330436857287,\n",
       " 0.5100786876090886,\n",
       " 0.5011260185860908,\n",
       " 0.49227517048505925,\n",
       " 0.4835262560063279,\n",
       " 0.4748793663074321,\n",
       " 0.46633457064448186,\n",
       " 0.4578919160307531,\n",
       " 0.44955142691351563,\n",
       " 0.4413131048701032,\n",
       " 0.4331769283242054,\n",
       " 0.425142852283339,\n",
       " 0.417210808098424,\n",
       " 0.40938070324635684,\n",
       " 0.4016524211364339,\n",
       " 0.3940258209414369,\n",
       " 0.3865007374541441,\n",
       " 0.37907698096998177,\n",
       " 0.37175433719647516,\n",
       " 0.3645325671900995,\n",
       " 0.35741140732107174,\n",
       " 0.35039056926655576,\n",
       " 0.3434697400326886,\n",
       " 0.33664858200576164,\n",
       " 0.3299267330328187,\n",
       " 0.3233038065318565,\n",
       " 0.31677939163173396,\n",
       " 0.3103530533418205,\n",
       " 0.3040243327513284,\n",
       " 0.2977927472581961,\n",
       " 0.29165779082730614,\n",
       " 0.28561893427773855,\n",
       " 0.2796756255986795,\n",
       " 0.2738272902935234,\n",
       " 0.2680733317516269,\n",
       " 0.2624131316470943,\n",
       " 0.2568460503638974,\n",
       " 0.2513714274465587,\n",
       " 0.24598858207555488,\n",
       " 0.2406968135665291,\n",
       " 0.23549540189233537,\n",
       " 0.23038360822687642,\n",
       " 0.22536067550963965,\n",
       " 0.22042582902978136,\n",
       " 0.2155782770285621,\n",
       " 0.2108172113188906,\n",
       " 0.20614180792069545,\n",
       " 0.20155122771080952,\n",
       " 0.19704461708602322,\n",
       " 0.1926211086379388,\n",
       " 0.18827982183824038,\n",
       " 0.18401986373298085,\n",
       " 0.17984032964447974,\n",
       " 0.17574030387942363,\n",
       " 0.17171886044176385,\n",
       " 0.16777506374901427,\n",
       " 0.16390796935056515,\n",
       " 0.1601166246466469,\n",
       " 0.1564000696066001,\n",
       " 0.15275733748513562,\n",
       " 0.14918745553529855,\n",
       " 0.14568944571688677,\n",
       " 0.14226232539911174,\n",
       " 0.13890510805633272,\n",
       " 0.13561680395574008,\n",
       " 0.1323964208359118,\n",
       " 0.12924296457521778,\n",
       " 0.12615543984909905,\n",
       " 0.12313285077530388,\n",
       " 0.12017420154621866,\n",
       " 0.11727849704748904,\n",
       " 0.11444474346218475,\n",
       " 0.11167194885982092,\n",
       " 0.10895912376960747,\n",
       " 0.10630528173735812,\n",
       " 0.10370943986554898,\n",
       " 0.10117061933607606,\n",
       " 0.09868784591531857,\n",
       " 0.09626015044117216,\n",
       " 0.09388656929177226,\n",
       " 0.09156614483568214,\n",
       " 0.08929792586337351,\n",
       " 0.08708096799987927,\n",
       " 0.08491433409854714,\n",
       " 0.08279709461587122,\n",
       " 0.0807283279674241,\n",
       " 0.0787071208649557,\n",
       " 0.0767325686347665,\n",
       " 0.07480377551750236,\n",
       " 0.07291985494955437,\n",
       " 0.0710799298262825,\n",
       " 0.06928313274731364,\n",
       " 0.06752860624419463,\n",
       " 0.06581550299070853,\n",
       " 0.0641429859961876,\n",
       " 0.06251022878217949,\n",
       " 0.060916415542843855,\n",
       " 0.05936074128947534,\n",
       " 0.05784241197956497,\n",
       " 0.0563606446308267,\n",
       " 0.05491466742062803,\n",
       " 0.05350371977127405,\n",
       " 0.052127052421602794,\n",
       " 0.05078392748535675,\n",
       " 0.04947361849680019,\n",
       " 0.048195410444055786,\n",
       " 0.0469485997906357,\n",
       " 0.04573249448564312,\n",
       " 0.04454641396311921,\n",
       " 0.0433896891310086,\n",
       " 0.04226166235021327,\n",
       " 0.041161687404200314,\n",
       " 0.04008912945962407,\n",
       " 0.03904336501841654,\n",
       " 0.0380237818617935,\n",
       " 0.03702977898661541,\n",
       " 0.036060766534534425,\n",
       " 0.035116165714349175,\n",
       " 0.03419540871797991,\n",
       " 0.03329793863046632,\n",
       " 0.03242320933438003,\n",
       " 0.03157068540903308,\n",
       " 0.030739842024852422,\n",
       " 0.02993016483327961,\n",
       " 0.02914114985254304,\n",
       " 0.02837230334963878,\n",
       " 0.02762314171884431,\n",
       " 0.026893191357077816,\n",
       " 0.026181988536403994,\n",
       " 0.025489079273975708,\n",
       " 0.024814019199689195,\n",
       " 0.0241563734218191,\n",
       " 0.02351571639088817,\n",
       " 0.022891631762015315,\n",
       " 0.02228371225597457,\n",
       " 0.021691559519186752,\n",
       " 0.021114783982854872,\n",
       " 0.020553004721443932,\n",
       " 0.020005849310695552,\n",
       " 0.019472953685357924,\n",
       " 0.018953961996801865,\n",
       " 0.018448526470684307,\n",
       " 0.01795630726481141,\n",
       " 0.01747697232734458,\n",
       " 0.01701019725548407,\n",
       " 0.0165556651547565,\n",
       " 0.016113066499024588,\n",
       " 0.015682098991329614,\n",
       " 0.015262467425669675,\n",
       " 0.014853883549809554,\n",
       " 0.014456065929211136,\n",
       " 0.014068739812166633,\n",
       " 0.013691636996210524,\n",
       " 0.013324495695879986,\n",
       " 0.012967060411887783,\n",
       " 0.012619081801765958,\n",
       " 0.012280316552033375,\n",
       " 0.011950527251935057,\n",
       " 0.01162948226879642,\n",
       " 0.011316955625030916,\n",
       " 0.011012726876835213,\n",
       " 0.010716580994601852,\n",
       " 0.010428308245075457,\n",
       " 0.01014770407527475,\n",
       " 0.009874568998199175,\n",
       " 0.009608708480335543,\n",
       " 0.009349932830977015,\n",
       " 0.009098057093363724,\n",
       " 0.008852900937651599,\n",
       " 0.008614288555713289,\n",
       " 0.008382048557772682,\n",
       " 0.008156013870872133,\n",
       " 0.007936021639169457,\n",
       " 0.00772191312605963,\n",
       " 0.007513533618114363,\n",
       " 0.007310732330830887,\n",
       " 0.007113362316179731,\n",
       " 0.0069212803719397266,\n",
       " 0.006734346952807125,\n",
       " 0.006552426083264404,\n",
       " 0.006375385272193176,\n",
       " 0.00620309542921454,\n",
       " 0.0060354307827392255,\n",
       " 0.00587226879970897,\n",
       " 0.005713490107009785,\n",
       " 0.005558978414536999,\n",
       " 0.005408620439891345,\n",
       " 0.005262305834684721,\n",
       " 0.00511992711243379,\n",
       " 0.004981379578019082,\n",
       " 0.004846561258686878,\n",
       " 0.004715372836570829,\n",
       " 0.0045877175827099435,\n",
       " 0.004463501292539362,\n",
       " 0.004342632222830138,\n",
       " 0.004225021030054091,\n",
       " 0.004110580710149687,\n",
       " 0.003999226539664847,\n",
       " 0.0038908760182525285,\n",
       " 0.0037854488124949384,\n",
       " 0.0036828667010322664,\n",
       " 0.003583053520971876,\n",
       " 0.0034859351155539825,\n",
       " 0.003391439283049963,\n",
       " 0.0032994957268695627,\n",
       " 0.003210036006853434,\n",
       " 0.0031229934917275984,\n",
       " 0.003038303312696635,\n",
       " 0.0029559023181525874,\n",
       " 0.002875729029476817,\n",
       " 0.0027977235979122633,\n",
       " 0.002721827762483819,\n",
       " 0.002647984808944788]"
      ]
     },
     "execution_count": 55,
     "metadata": {},
     "output_type": "execute_result"
    },
    {
     "data": {
      "image/png": "[encoded data removed]",
      "text/plain": [
       "<Figure size 432x288 with 1 Axes>"
      ]
     },
     "metadata": {
      "needs_background": "light"
     },
     "output_type": "display_data"
    }
   ],
   "source": [
    "# ENTER YOUR SOLUTION HERE\n",
    "def runge_kutta(f, y0, x0, x1, steps):\n",
    "    \"\"\"xs, ys = runge_kutta(f, y0, x0, x1, steps).\n",
    "    4th-order Runge-Kutta method for solving the\n",
    "    initial value problem {y}' = {f(x,{y})},\n",
    "    where {y} = {y[0],y[1],...,y[n-1]}.\n",
    "    x0, y0 = initial conditions\n",
    "    x1     = terminal value of x\n",
    "    steps  = number of integration steps\n",
    "    f      = user-supplied function that returns the\n",
    "             array f(x,y) = {y’[0],y’[1],...,y’[n-1]}.\n",
    "    \"\"\"\n",
    "    h = (x1 - x0) / steps\n",
    "    xs = np.linspace(x0, x1, steps + 1)\n",
    "    y = y0\n",
    "    ys = [y]\n",
    "    for x in xs[:-1]:\n",
    "        k0 = h * f(x,y)\n",
    "        k1 = h * f(x + (0.5 * h) , y + (0.5 * k0))\n",
    "        k2 = h * f(x + (0.5 * h) , y + (0.5 * k1))\n",
    "        k3 = h * f(x + h , y + k2)\n",
    "        y = y + (k0 + (2*k1) + (2*k2) +k3) / 6\n",
    "        ys.append(y)\n",
    "    return xs, ys\n",
    "f = lambda t,x : np.array([-Vmax * x[0]/(KM+x[0])])\n",
    "# What is teh difference between lambda t,x and lambda x, t\n",
    "# why should I use x[0]\n",
    "x0 = 0\n",
    "x1 = 5.1\n",
    "h = 0.02\n",
    "steps = int((x1-x0)/h) + 1\n",
    "y0 = [1]\n",
    "time , ys = runge_kutta(f, y0, x0, x1, steps)\n",
    "S_RK4 = []\n",
    "for y in ys:\n",
    "    S_RK4.append(y[0])\n",
    "plt.plot(time,S_RK4)\n",
    "S_RK4"
   ]
  },
  {
   "cell_type": "markdown",
   "metadata": {},
   "source": [
    "Alternatively, the Michaelis-Menten equation can be integrated analytically to find the implicit equation\n",
    "\n",
    "$$\n",
    "K_\\text{M}\\cdot\\ln(S) + S = 1 - V_\\max\\cdot t\n",
    "$$\n",
    "\n",
    "For any value $t$, this equation has exactly one unique solution for $S$, but this cannot be expressed in terms of elementary functions.\n",
    "\n",
    "<div class=\"alert alert-info\">\n",
    "<b>Note:</b> For your information, the derivation goes as follows:\n",
    "$$\n",
    "\\frac{\\text{d}S}{\\text{d}t} = -V_\\max \\frac{S}{K_\\text{M} + S}\n",
    "\\ \\Longleftrightarrow \\\n",
    "\\frac{K_\\text{M} + S}{S} \\text{d}S = -V_\\max \\text{d}t\n",
    "\\ \\Longleftrightarrow \\\n",
    "\\int\\left(\\frac{K_\\text{M}}{S}+1\\right)\\text{d}S = -\\int V_\\max\\text{d}t\n",
    "\\ \\Longleftrightarrow \\\n",
    "K_\\text{M}\\ln(S) + S = -V_\\max t + C\n",
    "$$\n",
    "in which the starting condition $S(0)=1$ at $t=0$ results in an integration constant $C=1$.\n",
    "</div>\n",
    "\n",
    "#### Question 1c <small>[10 pts]</small>\n",
    "\n",
    "Apply root finding using the bisection method to solve $S$ from the above equality for all values of $t$ in the array `time` to an accuracy of 12 decimals. Store the results in another 256-element array `S_bisect`.\n",
    "\n",
    "<div class=\"alert alert-success\">\n",
    "<b>Hint:</b> You are looking for solutions in a range $0 \\leq S \\leq 1$, but note that $\\ln(S)$ does not exist for $S=0$.\n",
    "</div>"
   ]
  },
  {
   "cell_type": "code",
   "execution_count": 43,
   "metadata": {},
   "outputs": [
    {
     "data": {
      "text/plain": [
       "[<matplotlib.lines.Line2D at 0x7fd4487f90d0>]"
      ]
     },
     "execution_count": 43,
     "metadata": {},
     "output_type": "execute_result"
    },
    {
     "data": {
      "image/png": "[encoded data removed]",
      "text/plain": [
       "<Figure size 432x288 with 1 Axes>"
      ]
     },
     "metadata": {
      "needs_background": "light"
     },
     "output_type": "display_data"
    }
   ],
   "source": [
    "# ENTER YOUR SOLUTION HERE\n",
    "x = np.linspace(0,5.1,256)\n",
    "a = 1e-12; b = 1\n",
    "S_bisect = []\n",
    "\n",
    "def bisection(f, a, b, tol=1e-12):\n",
    "    \"\"\"root = bisection(f, a, b, tol=...).\n",
    "    Finds a root of f(x) = 0 by bisection.\n",
    "    The root must be bracketed in (a,b).\n",
    "    \"\"\"\n",
    "    lo, f_lo = a, f(a)\n",
    "    if f_lo == 0.0:\n",
    "        return lo\n",
    "    hi, f_hi = b, f(b)\n",
    "    if f_hi == 0.0:\n",
    "        return hi\n",
    "    if f_lo * f_hi > 0.0:\n",
    "       raise ValueError('Root is not bracketed')\n",
    "    while abs(hi - lo) > tol:\n",
    "        md = (hi + lo) / 2\n",
    "        if f(md) == 0:\n",
    "            return md\n",
    "        if f(md) * f(hi) < 0:\n",
    "            lo = md\n",
    "        else:\n",
    "            hi = md\n",
    "    return (lo + hi) / 2.0\n",
    "for i in x:\n",
    "    f = lambda s: KM * np.log(s) + s - 1 + Vmax * i\n",
    "    S_bisect.append(bisection(f, a, b, tol=1e-12))\n",
    "\n",
    "plt.plot(x,S_bisect)\n",
    "\n"
   ]
  },
  {
   "cell_type": "code",
   "execution_count": 54,
   "metadata": {},
   "outputs": [
    {
     "name": "stderr",
     "output_type": "stream",
     "text": [
      "/var/folders/74/hchwhhz568x878t9vflxnjfh0000gn/T/ipykernel_2326/222714110.py:27: RuntimeWarning: divide by zero encountered in log\n",
      "  f = lambda s: np.array(KM * np.log(s) + s - 1 + Vmax * x)\n"
     ]
    },
    {
     "data": {
      "text/plain": [
       "array([1.        , 0.98692623, 0.97393485, 0.96102646, 0.94820168,\n",
       "       0.93546111, 0.92280536, 0.91023503, 0.89775071, 0.88535301,\n",
       "       0.8730425 , 0.86081978, 0.84868543, 0.83664001, 0.8246841 ,\n",
       "       0.81281826, 0.80104304, 0.78935899, 0.77776666, 0.76626656,\n",
       "       0.75485924, 0.74354519, 0.73232494, 0.72119896, 0.71016775,\n",
       "       0.69923178, 0.68839152, 0.67764741, 0.66699989, 0.65644939,\n",
       "       0.64599633, 0.63564109, 0.62538407, 0.61522563, 0.60516612,\n",
       "       0.5952059 , 0.58534527, 0.57558455, 0.56592401, 0.55636394,\n",
       "       0.54690459, 0.53754618, 0.52828893, 0.51913304, 0.51007869,\n",
       "       0.50112602, 0.49227517, 0.48352626, 0.47487937, 0.46633457,\n",
       "       0.45789192, 0.44955143, 0.4413131 , 0.43317693, 0.42514285,\n",
       "       0.41721081, 0.4093807 , 0.40165242, 0.39402582, 0.38650074,\n",
       "       0.37907698, 0.37175434, 0.36453257, 0.35741141, 0.35039057,\n",
       "       0.34346974, 0.33664858, 0.32992673, 0.32330381, 0.31677939,\n",
       "       0.31035305, 0.30402433, 0.29779275, 0.29165779, 0.28561893,\n",
       "       0.27967563, 0.27382729, 0.26807333, 0.26241313, 0.25684605,\n",
       "       0.25137143, 0.24598858, 0.24069681, 0.2354954 , 0.23038361,\n",
       "       0.22536068, 0.22042583, 0.21557828, 0.21081721, 0.20614181,\n",
       "       0.20155123, 0.19704462, 0.19262111, 0.18827982, 0.18401986,\n",
       "       0.17984033, 0.1757403 , 0.17171886, 0.16777506, 0.16390797,\n",
       "       0.16011662, 0.15640007, 0.15275734, 0.14918746, 0.14568945,\n",
       "       0.14226233, 0.13890511, 0.1356168 , 0.13239642, 0.12924296,\n",
       "       0.12615544, 0.12313285, 0.1201742 , 0.1172785 , 0.11444474,\n",
       "       0.11167195, 0.10895912, 0.10630528, 0.10370944, 0.10117062,\n",
       "       0.09868785, 0.09626015, 0.09388657, 0.09156614, 0.08929793,\n",
       "       0.08708097, 0.08491433, 0.08279709, 0.08072833, 0.07870712,\n",
       "       0.07673257, 0.07480378, 0.07291985, 0.07107993, 0.06928313,\n",
       "       0.06752861, 0.0658155 , 0.06414299, 0.06251023, 0.06091642,\n",
       "       0.05936074, 0.05784241, 0.05636064, 0.05491467, 0.05350372,\n",
       "       0.05212705, 0.05078393, 0.04947362, 0.04819541, 0.0469486 ,\n",
       "       0.04573249, 0.04454641, 0.04338969, 0.04226166, 0.04116169,\n",
       "       0.04008913, 0.03904336, 0.03802378, 0.03702978, 0.03606077,\n",
       "       0.03511617, 0.03419541, 0.03329794, 0.03242321, 0.03157069,\n",
       "       0.03073984, 0.02993016, 0.02914115, 0.0283723 , 0.02762314,\n",
       "       0.02689319, 0.02618199, 0.02548908, 0.02481402, 0.02415637,\n",
       "       0.02351572, 0.02289163, 0.02228371, 0.02169156, 0.02111478,\n",
       "       0.020553  , 0.02000585, 0.01947295, 0.01895396, 0.01844853,\n",
       "       0.01795631, 0.01747697, 0.0170102 , 0.01655566, 0.01611307,\n",
       "       0.0156821 , 0.01526247, 0.01485388, 0.01445607, 0.01406874,\n",
       "       0.01369164, 0.0133245 , 0.01296706, 0.01261908, 0.01228032,\n",
       "       0.01195053, 0.01162948, 0.01131696, 0.01101273, 0.01071658,\n",
       "       0.01042831, 0.0101477 , 0.00987457, 0.00960871, 0.00934993,\n",
       "       0.00909806, 0.0088529 , 0.00861429, 0.00838205, 0.00815601,\n",
       "       0.00793602, 0.00772191, 0.00751353, 0.00731073, 0.00711336,\n",
       "       0.00692128, 0.00673435, 0.00655243, 0.00637539, 0.0062031 ,\n",
       "       0.00603543, 0.00587227, 0.00571349, 0.00555898, 0.00540862,\n",
       "       0.00526231, 0.00511993, 0.00498138, 0.00484656, 0.00471537,\n",
       "       0.00458772, 0.0044635 , 0.00434263, 0.00422502, 0.00411058,\n",
       "       0.00399923, 0.00389088, 0.00378545, 0.00368287, 0.00358305,\n",
       "       0.00348594, 0.00339144, 0.0032995 , 0.00321004, 0.00312299,\n",
       "       0.0030383 , 0.0029559 , 0.00287573, 0.00279772, 0.00272183,\n",
       "       0.00264798])"
      ]
     },
     "execution_count": 54,
     "metadata": {},
     "output_type": "execute_result"
    },
    {
     "data": {
      "image/png": "[encoded data removed]",
      "text/plain": [
       "<Figure size 432x288 with 1 Axes>"
      ]
     },
     "metadata": {
      "needs_background": "light"
     },
     "output_type": "display_data"
    }
   ],
   "source": [
    "# ENTER YOUR SOLUTION HERE\n",
    "\n",
    "def bisection(f, a, b, tol=1e-8):\n",
    "    \"\"\"root = bisection(f, a, b, tol=...).\n",
    "    Finds a root of f(x) = 0 by bisection.\n",
    "    The root must be bracketed in (a,b).\n",
    "    \"\"\"\n",
    "    lo, f_lo = a, f(a)\n",
    "    if f_lo == 0.0:\n",
    "        return lo\n",
    "    hi, f_hi = b, f(b)\n",
    "    if f_hi == 0.0:\n",
    "        return hi\n",
    "    if f_lo * f_hi > 0.0:\n",
    "       raise ValueError('Root is not bracketed')\n",
    "    while abs(hi - lo) > tol:\n",
    "        md = (hi + lo) / 2\n",
    "        if f(md) == 0:\n",
    "            return md\n",
    "        if f(md) * f(hi) < 0:\n",
    "            lo = md\n",
    "        else:\n",
    "            hi = md\n",
    "    return (lo + hi) / 2.0\n",
    "\n",
    "def model(x):\n",
    "    f = lambda s: np.array(KM * np.log(s) + s - 1 + Vmax * x)\n",
    "    return bisection(f, 0, 1, tol=1e-12)\n",
    "x = np.linspace(0,5.1,256)\n",
    "S_bisect = []\n",
    "for i in range(len(x)):\n",
    "    S_bisect.append(model(x[i]))\n",
    "S_bisect = np.array(S_bisect)\n",
    "plt.plot(time,S_bisect)\n",
    "S_bisect"
   ]
  },
  {
   "cell_type": "markdown",
   "metadata": {},
   "source": [
    "<div class=\"alert alert-danger\">\n",
    "<b>Note:</b> If you did not succeed in solving Part 1, you may continue Part 2 using the data in the provided file `rescue1.npz` by uncommenting the cell below. However, you will not receive full credit for the previous questions then.\n",
    "</div>"
   ]
  },
  {
   "cell_type": "code",
   "execution_count": 45,
   "metadata": {},
   "outputs": [],
   "source": [
    "# # NOTE: ONLY UNCOMMENT THIS CELL IF YOU DID NOT SOLVE PART 1 YOURSELF !!!\n",
    "# rescue1 = np.load('./rescue1.npz'); S_RK4, S_bisect = rescue1['S_RK4'], rescue1['S_bisect']"
   ]
  },
  {
   "cell_type": "markdown",
   "metadata": {},
   "source": [
    "### Question 2\n",
    "\n",
    "As the reaction proceeds, the amount of substrate decreases to zero. Below, both your solution according to Runge-Kutta and according to bisection are plotted on the left. If your calculations were correct, these curves will appear to coincide.\n",
    "\n",
    "However, when looking more closely, these two curves deviate slightly. We can visualize this by plotting their difference $\\Delta = \\left| S_\\text{RK4} - S_\\text{bisect}\\right|$, as seen on the right."
   ]
  },
  {
   "cell_type": "code",
   "execution_count": 46,
   "metadata": {},
   "outputs": [
    {
     "data": {
      "image/png": "[encoded data removed]",
      "text/plain": [
       "<Figure size 864x288 with 2 Axes>"
      ]
     },
     "metadata": {
      "needs_background": "light"
     },
     "output_type": "display_data"
    }
   ],
   "source": [
    "from scipy.interpolate import interp1d\n",
    "delta = interp1d(times, np.abs(np.array(S_RK4)-np.array(S_bisect)), 'cubic')\n",
    "\n",
    "plt.figure(figsize=(12, 4))\n",
    "plt.subplot(1, 2, 1); plt.axhline(0.0, color='k', lw=0.5)\n",
    "plt.plot(time, S_RK4, 'r-', lw=2, label='Runge-Kutta')\n",
    "plt.plot(time, S_bisect, 'b:', lw=3, label='Bisection')\n",
    "plt.xlabel('$t$ [s]'); plt.ylabel('$S$ [mmol/L]')\n",
    "plt.title('Substrate concentration $S(t)$'); plt.legend()\n",
    "plt.subplot(1, 2, 2); plt.axhline(0.0, color='k', lw=0.5)\n",
    "plt.plot(time, delta(time), 'c', label='delta')\n",
    "plt.xlabel('$t$ [s]'); plt.ylabel('$\\Delta$ [mmol/L]')\n",
    "plt.title('Difference $\\Delta(t)$'); plt.legend(); plt.show()"
   ]
  },
  {
   "cell_type": "markdown",
   "metadata": {},
   "source": [
    "#### Question 2a <small>[10 pts]</small>\n",
    "\n",
    "Using an appropriate algorithm of your own choice, determine with at least 3 decimals accuracy at what time $t_\\max$ the callable difference function `delta(t)` that is defined in the previous cell achieves its maximum. Evaluate and print the corresponding maximal difference $\\Delta(t_\\max)$."
   ]
  },
  {
   "cell_type": "code",
   "execution_count": 53,
   "metadata": {},
   "outputs": [
    {
     "name": "stdout",
     "output_type": "stream",
     "text": [
      "tmax = 2.420\n",
      "delta = -9.621e-02\n"
     ]
    },
    {
     "data": {
      "image/png": "[encoded data removed]",
      "text/plain": [
       "<Figure size 432x288 with 1 Axes>"
      ]
     },
     "metadata": {
      "needs_background": "light"
     },
     "output_type": "display_data"
    }
   ],
   "source": [
    "# ENTER YOUR SOLUTION HERE\n",
    "def minimumsearch(f, a, b, steps):\n",
    "    \"\"\"lo, hi = minimumsearch(f, a, b, steps).\n",
    "    Searches the interval (a,b) in a number of steps for\n",
    "    the bounds (lo,hi) of the minima of f(x).\n",
    "    \"\"\"\n",
    "    if steps < 2:\n",
    "        steps = 2\n",
    "    h = (b - a) / steps\n",
    "    lo = a\n",
    "    md = a + h\n",
    "    f_lo = f(lo)\n",
    "    f_md = f(md)\n",
    "    for step in range(2, steps + 1):\n",
    "        hi = a + h * step # md + h\n",
    "        f_hi = f(hi)\n",
    "        if f_md < f_lo and f_md < f_hi:\n",
    "            yield lo, hi\n",
    "        lo, md, f_lo, f_md = md, hi, f_md, f_hi\n",
    "\n",
    "def golden_search(f, a, b, tol=...):\n",
    "    \"\"\"minimum = golden_search(f, a, b, tol=...).\n",
    "    Finds a minimum of the function f using golden\n",
    "    section search, starting from bracketing values\n",
    "    a and b and ending when |b-a| < tol.\n",
    "    \"\"\"\n",
    "    from math import sqrt\n",
    "    factor = (3 - sqrt(5))/2\n",
    "    while abs(b-a) > tol:\n",
    "        x1 = a + (b-a)*factor\n",
    "        x2 = b - (b-a)*factor\n",
    "        f_x1 = f(x1)\n",
    "        f_x2 = f(x2)\n",
    "        if f_x1 < f_x2:\n",
    "            b = x2\n",
    "            x2 = x1\n",
    "            x1 = a + (b-a)*factor\n",
    "        else:\n",
    "            a = x1\n",
    "            x1 = x2\n",
    "            x2 = b - (b-a)*factor\n",
    "    return (a + b) / 2.0\n",
    "f = lambda t: -delta(t)\n",
    "for lo, hi in minimumsearch(f, 2, 3, 6):\n",
    "    tmax = golden_search(f, lo, hi, tol=1e-3)\n",
    "print('tmax = {:.3f}'.format(tmax))\n",
    "print('delta = {:.3e}'.format(f(tmax)))\n",
    "plt.plot(time, delta(time), 'c', label='delta')\n",
    "plt.plot(tmax, delta(tmax), \"ro\")\n",
    "plt.xlabel('$t$ [s]'); plt.ylabel('$\\Delta$ [mmol/L]')\n",
    "plt.title('Difference $\\Delta(t)$'); plt.legend(); plt.show()\n"
   ]
  },
  {
   "cell_type": "markdown",
   "metadata": {},
   "source": [
    "#### Question 2b <small>[5 pts]</small>\n",
    "\n",
    "Which of the estimates for the curve $S(t)$ is most accurate in this case: `S_RK4` according to the 4<sup>th</sup>-order Runge-Kutta method, or `S_bisect` according to the bisection method? Motivate your answer."
   ]
  },
  {
   "cell_type": "code",
   "execution_count": 48,
   "metadata": {},
   "outputs": [],
   "source": [
    "# ENTER YOUR SOLUTION HERE\n",
    "# Can I use some function to calculate it?"
   ]
  },
  {
   "cell_type": "markdown",
   "metadata": {},
   "source": [
    "### Question 3\n",
    "\n",
    "#### Question 3a <small>[10 pts]</small>\n",
    "\n",
    "Using only the available values in either the array `S_RK4` or `S_bisect`, determine the reaction rate\n",
    "\n",
    "$$\n",
    "v = -\\frac{\\text{d}S}{\\text{d}t}\n",
    "$$\n",
    "\n",
    "using the *central difference approximation* at all the time points in the array `time`. Store the result in a corresponding 256-element array `rate`. For the first and last element in the array that only have one neighboring data point, use the *forward* or *backward approximation*."
   ]
  },
  {
   "cell_type": "code",
   "execution_count": 49,
   "metadata": {},
   "outputs": [
    {
     "data": {
      "text/plain": [
       "[<matplotlib.lines.Line2D at 0x7fd419e423a0>]"
      ]
     },
     "execution_count": 49,
     "metadata": {},
     "output_type": "execute_result"
    },
    {
     "data": {
      "image/png": "[encoded data removed]",
      "text/plain": [
       "<Figure size 432x288 with 1 Axes>"
      ]
     },
     "metadata": {
      "needs_background": "light"
     },
     "output_type": "display_data"
    }
   ],
   "source": [
    "# ENTER YOUR SOLUTION HERE\n",
    "def forward_derivative(f, x, h=...):\n",
    "    \"\"\"df = forward_derivative(f, x, h).\n",
    "    Calculates the forward difference approximation of the\n",
    "    function f(x).\n",
    "    \"\"\"\n",
    "    df = (f(x+h) - f(x)) / h\n",
    "    return df\n",
    "\n",
    "def backward_derivative(f, x, h=...):\n",
    "    \"\"\"df = forward_derivative(f, x, h).\n",
    "    Calculates the backward difference approximation of the\n",
    "    function f(x).\n",
    "    \"\"\"\n",
    "    df = (f(x) - f(x-h)) / h\n",
    "    return df\n",
    "\n",
    "def central_derivative(f, x, h=...):\n",
    "    \"\"\"df = central_derivative(f, x, h).\n",
    "    Calculates the central difference approximation of the\n",
    "    function f(x).\n",
    "    \"\"\"\n",
    "    df = (f(x+h) - f(x-h)) / (2 * h)\n",
    "    return df\n",
    "\n",
    "f = lambda x : np.array([Vmax * x/(KM+x)])\n",
    "from scipy.interpolate import interp1d\n",
    "delta = interp1d(time, S_RK4, 'cubic')\n",
    "rate = []\n",
    "for i in range(len(time)):\n",
    "    if i == 0:\n",
    "        x = forward_derivative(f, x= time[i], h=0.02)\n",
    "        rate.append(delta(x))\n",
    "    elif i == 255:\n",
    "        x = backward_derivative(f,x=time[i], h=0.02)\n",
    "        rate.append(delta(x))\n",
    "    else:\n",
    "        x = central_derivative(f, x=time[i], h=0.02)\n",
    "        rate.append(delta(x))\n",
    "plt.plot(time,rate)"
   ]
  },
  {
   "cell_type": "code",
   "execution_count": null,
   "metadata": {},
   "outputs": [],
   "source": []
  },
  {
   "cell_type": "markdown",
   "metadata": {},
   "source": [
    "#### Question 3b <small>[10 pts]</small>\n",
    "\n",
    "Using only the available values in either the array `S_RK4` or `S_bisect`, determine the total amount of reaction product $P$ [mmol/L] that is produced during the studied 5.1-second interval according to\n",
    "\n",
    "$$\n",
    "P = \\int_{0.0}^{5.1} v(t) \\text{d}t = V_\\max \\cdot \\int_{0.0}^{5.1} \\frac{S}{K_\\text{M} + S} \\text{d}t\n",
    "$$\n",
    "\n",
    "using numerical integration based on the *composite Simpson's 1/3 rule*. Print the result with 3 decimal digits."
   ]
  },
  {
   "cell_type": "code",
   "execution_count": 56,
   "metadata": {},
   "outputs": [
    {
     "ename": "TypeError",
     "evalue": "can't multiply sequence by non-int of type 'list'",
     "output_type": "error",
     "traceback": [
      "\u001b[0;31m---------------------------------------------------------------------------\u001b[0m",
      "\u001b[0;31mTypeError\u001b[0m                                 Traceback (most recent call last)",
      "\u001b[0;32m/var/folders/74/hchwhhz568x878t9vflxnjfh0000gn/T/ipykernel_2326/3865452585.py\u001b[0m in \u001b[0;36m<module>\u001b[0;34m\u001b[0m\n\u001b[1;32m     16\u001b[0m     \u001b[0mI\u001b[0m \u001b[0;34m*=\u001b[0m \u001b[0;34m(\u001b[0m\u001b[0mh\u001b[0m\u001b[0;34m/\u001b[0m\u001b[0;36m3\u001b[0m\u001b[0;34m)\u001b[0m\u001b[0;34m\u001b[0m\u001b[0;34m\u001b[0m\u001b[0m\n\u001b[1;32m     17\u001b[0m     \u001b[0;32mreturn\u001b[0m \u001b[0mI\u001b[0m\u001b[0;34m\u001b[0m\u001b[0;34m\u001b[0m\u001b[0m\n\u001b[0;32m---> 18\u001b[0;31m \u001b[0mrate\u001b[0m \u001b[0;34m*\u001b[0m \u001b[0mS_RK4\u001b[0m \u001b[0;34m/\u001b[0m \u001b[0;34m(\u001b[0m\u001b[0mKM\u001b[0m\u001b[0;34m+\u001b[0m\u001b[0mS_RK4\u001b[0m\u001b[0;34m)\u001b[0m\u001b[0;34m\u001b[0m\u001b[0;34m\u001b[0m\u001b[0m\n\u001b[0m\u001b[1;32m     19\u001b[0m \u001b[0mp\u001b[0m \u001b[0;34m=\u001b[0m \u001b[0msimpson\u001b[0m\u001b[0;34m(\u001b[0m\u001b[0mf\u001b[0m\u001b[0;34m,\u001b[0m\u001b[0;36m0\u001b[0m\u001b[0;34m,\u001b[0m\u001b[0;36m5.1256\u001b[0m\u001b[0;34m)\u001b[0m\u001b[0;34m\u001b[0m\u001b[0;34m\u001b[0m\u001b[0m\n\u001b[1;32m     20\u001b[0m \u001b[0;31m# Use the code from formula\u001b[0m\u001b[0;34m\u001b[0m\u001b[0;34m\u001b[0m\u001b[0m\n",
      "\u001b[0;31mTypeError\u001b[0m: can't multiply sequence by non-int of type 'list'"
     ]
    }
   ],
   "source": [
    "# ENTER YOUR SOLUTION HERE\n",
    "def simpson(f, a, b, n=...):\n",
    "    \"\"\"df = simpson(f, a, b, n=...).\n",
    "    Calculates the definite integral of the function f(x)\n",
    "    from a to b using the composite Simpson's\n",
    "    rule with n subdivisions (with default n=...).\n",
    "    \"\"\"\n",
    "    n += n % 2\n",
    "    h = (b-a) / n\n",
    "    I = f(a) + f(b)\n",
    "    for i in range(1,n):\n",
    "        if i % 2 == 0:\n",
    "            I += 2 * f( a + h * i)\n",
    "        elif i % 2 == 1:\n",
    "            I += 4 * f( a + h * i)\n",
    "    I *= (h/3)\n",
    "    return I\n",
    "rate * S_RK4 / (KM+S_RK4)\n",
    "p = simpson(f,0,5.1256)\n",
    "# Use the code from formula\n",
    "roduct = (rate[0] + 4.0 * rate[1:-1:2].sum() + 2.0 * rate[2:-2:2].sum() + rate[-1]) * h / 3.0\n"
   ]
  },
  {
   "cell_type": "markdown",
   "metadata": {},
   "source": [
    "### Question 4\n",
    "\n",
    "During the lessons, at some point your teacher made a mistake when explaining the 4<sup>th</sup>-order Runge-Kutta method. He initially showed a method that is fully characterized by the coefficients in the third row of the following table:\n",
    "\n",
    "| Method | Order | $\\boldsymbol{c}$ | $\\boldsymbol{q}$ |\n",
    "| :-- | :-: | :-: | :-: |\n",
    "| Euler's | 1 | $1$ | $\\times$ |\n",
    "| Heun's | 2 | $\\frac{1}{2}$, $\\frac{1}{2}$ | $1$ |\n",
    "| Teacher's | $\\ldots$ | $\\frac{1}{6}$, $\\frac{1}{6}$, $\\frac{1}{3}$, $\\frac{1}{3}$ | $\\begin{array}{ccc} 1 & & \\\\ 0 & \\frac{1}{2} & \\\\ 0 & 0 & \\frac{1}{2} \\end{array}$ |\n",
    "| Runge-Kutta's | 4 | $\\frac{1}{6}$, $\\frac{1}{3}$, $\\frac{1}{3}$, $\\frac{1}{6}$ | $\\begin{array}{ccc} \\frac{1}{2} & & \\\\ 0 & \\frac{1}{2} & \\\\ 0 & 0 & 1 \\end{array}$ |\n",
    "\n",
    "#### Question 4a <small>[10 pts]</small>\n",
    "\n",
    "Complete the following function to implement this *Teacher's method*. The result should be a pair of lists with all the values of $x_i$ and $\\boldsymbol{y}_i$, respectively, with $i$ ranging from zero to the number of steps.\n",
    "\n",
    "```python\n",
    "def teacher(f, y0, x0, x1, steps):\n",
    "    \"\"\"xs, ys = teacher(f, y0, x0, x1, steps).\n",
    "    Teacher's mistaken method for solving the\n",
    "    initial value problem {y}' = {f(x,{y})},\n",
    "    where {y} = {y[0],y[1],...,y[n-1]}.\n",
    "    x0, y0 = initial conditions\n",
    "    x1     = terminal value of x\n",
    "    steps  = number of integration steps\n",
    "    f      = user-supplied function that returns the\n",
    "             array f(x,y) = {y’[0],y’[1],...,y’[n-1]}.\n",
    "    \"\"\"\n",
    "    pass   # ADD YOUR OWN CODE HERE\n",
    "    return xs, ys\n",
    "```"
   ]
  },
  {
   "cell_type": "code",
   "execution_count": null,
   "metadata": {},
   "outputs": [],
   "source": [
    "# ENTER YOUR SOLUTION HERE\n",
    "def teacher(f, y0, x0, x1, steps):\n",
    "    \"\"\"xs, ys = teacher(f, y0, x0, x1, steps).\n",
    "    Teacher's mistaken method for solving the\n",
    "    initial value problem {y}' = {f(x,{y})},\n",
    "    where {y} = {y[0],y[1],...,y[n-1]}.\n",
    "    x0, y0 = initial conditions\n",
    "    x1     = terminal value of x\n",
    "    steps  = number of integration steps\n",
    "    f      = user-supplied function that returns the\n",
    "             array f(x,y) = {y’[0],y’[1],...,y’[n-1]}.\n",
    "    \"\"\"\n",
    "    h = (x1 - x0) / steps\n",
    "    xs = np.linspace(x0, x1, steps + 1)\n",
    "    y = y0\n",
    "    ys = [y]\n",
    "    for x in xs[:-1]:\n",
    "        k0 = h * f(x,y)\n",
    "        k1 = h * f(x + h , y + k0)\n",
    "        k2 = h * f(x + (0.5 * h) , y + (0.5 * k1))\n",
    "        k3 = h * f(x + (0.5 * h), y + (0.5 * k2))\n",
    "        y = y + (k0 + k1 + (2*k2) + (2*k3)) / 6\n",
    "        ys.append(y)\n",
    "    return xs, ys"
   ]
  },
  {
   "cell_type": "markdown",
   "metadata": {},
   "source": [
    "#### Question 4b <small>[10 pts]</small>\n",
    "\n",
    "Empirically determine the *order* of convergence of this method. Do you consider this method to be viable (i.e., can you envisage using it might be appropriate)? Explain your answer."
   ]
  },
  {
   "cell_type": "code",
   "execution_count": null,
   "metadata": {},
   "outputs": [
    {
     "name": "stdout",
     "output_type": "stream",
     "text": [
      "n =      1: |Δy| =  1.2e+02\n",
      "n =     10: |Δy| =  2.2e-01\n",
      "n =    100: |Δy| =  2.1e-03\n",
      "n =   1000: |Δy| =  2.1e-05\n",
      "n =  10000: |Δy| =  2.1e-07\n",
      "n = 100000: |Δy| =  2.1e-09\n"
     ]
    }
   ],
   "source": [
    "# ENTER YOUR SOLUTION HERE\n",
    "func = lambda x, y: np.array([-2.0 * y[1], 2.0 * y[0]])\n",
    "x0, x1, y0 = 0.0, np.pi, np.array([1.0, 0.0])\n",
    "\n",
    "ns = [1, 10, 100, 1000, 10000, 100000]\n",
    "for n in ns:\n",
    "    xs, ys = teacher(func, y0, x0, x1, n)\n",
    "    print(f'n = {n:6}: |Δy| = {np.linalg.norm(ys[0]-ys[-1]):8.1e}')"
   ]
  },
  {
   "cell_type": "code",
   "execution_count": null,
   "metadata": {},
   "outputs": [
    {
     "name": "stdout",
     "output_type": "stream",
     "text": [
      "n =      1: |Δy| =  5.7e+01\n",
      "n =     10: |Δy| =  8.1e-03\n",
      "n =    100: |Δy| =  8.2e-07\n",
      "n =   1000: |Δy| =  8.2e-11\n",
      "n =  10000: |Δy| =  7.0e-15\n",
      "n = 100000: |Δy| =  1.6e-14\n"
     ]
    }
   ],
   "source": [
    "def runge_kutta(f, y0, x0, x1, steps):\n",
    "    \"\"\"xs, ys = runge_kutta(f, y0, x0, x1, steps).\n",
    "    4th-order Runge-Kutta method for solving the\n",
    "    initial value problem {y}' = {f(x,{y})},\n",
    "    where {y} = {y[0],y[1],...,y[n-1]}.\n",
    "    x0, y0 = initial conditions\n",
    "    x1     = terminal value of x\n",
    "    steps  = number of integration steps\n",
    "    f      = user-supplied function that returns the\n",
    "             array f(x,y) = {y’[0],y’[1],...,y’[n-1]}.\n",
    "    \"\"\"\n",
    "    h = (x1 - x0) / steps\n",
    "    xs = np.linspace(x0, x1, steps + 1)\n",
    "    y = y0\n",
    "    ys = [y]\n",
    "    for x in xs[:-1]:\n",
    "        k0 = h * f(x,y)\n",
    "        k1 = h * f(x + (0.5 * h) , y + (0.5 * k0))\n",
    "        k2 = h * f(x + (0.5 * h) , y + (0.5 * k1))\n",
    "        k3 = h * f(x + h , y + k2)\n",
    "        y = y + (k0 + (2*k1) + (2*k2) +k3) / 6\n",
    "        ys.append(y)\n",
    "    return xs, ys\n",
    "for n in ns:\n",
    "    xs, ys = runge_kutta(func, y0, x0, x1, n)\n",
    "    print(f'n = {n:6}: |Δy| = {np.linalg.norm(ys[0]-ys[-1]):8.1e}')"
   ]
  },
  {
   "cell_type": "code",
   "execution_count": null,
   "metadata": {},
   "outputs": [
    {
     "name": "stdout",
     "output_type": "stream",
     "text": [
      "n =      1: |Δy| =  4.0e+01\n",
      "n =     10: |Δy| =  6.3e-02\n",
      "n =    100: |Δy| =  6.5e-05\n",
      "n =   1000: |Δy| =  6.5e-08\n",
      "n =  10000: |Δy| =  6.5e-11\n",
      "n = 100000: |Δy| =  6.8e-14\n"
     ]
    }
   ],
   "source": [
    "def kutta(f, y0, x0, x1, steps):\n",
    "    \"\"\"xs, ys = kutta(f, y0, x0, x1, steps).\n",
    "    3rd-order Kutta method for solving the\n",
    "    initial value problem {y}' = {f(x,{y})},\n",
    "    where {y} = {y[0],y[1],...,y[n-1]}.\n",
    "    x0, y0 = initial conditions\n",
    "    x1     = terminal value of x\n",
    "    steps  = number of integration steps\n",
    "    f      = user-supplied function that returns the\n",
    "             array f(x,y) = {y’[0],y’[1],...,y’[n-1]}.\n",
    "    \"\"\"\n",
    "    h = (x1 - x0) / steps\n",
    "    xs = np.linspace(x0, x1, steps + 1)\n",
    "    y = y0\n",
    "    ys = [y]\n",
    "    for x in xs[:-1]:\n",
    "        k0 = h * f(x,y)\n",
    "        k1 = h * f(x + (0.5 * h) , y + (0.5 * k0))\n",
    "        k2 = h * f(x + h , y + (-1) * k0 + 2 * k1)\n",
    "        y = y + (k0 + (4*k1) + k2) / 6\n",
    "        ys.append(y)\n",
    "    return xs, ys\n",
    "for n in ns:\n",
    "    xs, ys = kutta(func, y0, x0, x1, n)\n",
    "    print(f'n = {n:6}: |Δy| = {np.linalg.norm(ys[0]-ys[-1]):8.1e}')"
   ]
  },
  {
   "cell_type": "code",
   "execution_count": null,
   "metadata": {},
   "outputs": [
    {
     "name": "stdout",
     "output_type": "stream",
     "text": [
      "n =      1: |Δy| =  2.1e+01\n",
      "n =     10: |Δy| =  4.5e-01\n",
      "n =    100: |Δy| =  4.1e-03\n",
      "n =   1000: |Δy| =  4.1e-05\n",
      "n =  10000: |Δy| =  4.1e-07\n",
      "n = 100000: |Δy| =  4.1e-09\n"
     ]
    }
   ],
   "source": [
    "def heun(f, y0, x0, x1, steps):\n",
    "    \"\"\"xs, ys = heun(f, y0, x0, x1, steps).\n",
    "    Heun's method for solving the\n",
    "    initial value problem {y}' = {f(x,{y})},\n",
    "    where {y} = {y[0],y[1],...,y[n-1]}.\n",
    "    x0, y0 = initial conditions\n",
    "    x1     = terminal value of x\n",
    "    steps  = number of integration steps\n",
    "    f      = user-supplied function that returns the\n",
    "             array f(x,y) = {y’[0],y’[1],...,y’[n-1]}.\n",
    "    \"\"\"\n",
    "    h = (x1 - x0) / steps\n",
    "    xs = np.linspace(x0, x1, steps + 1)\n",
    "    # 2 x need 3 to check\n",
    "    y = y0\n",
    "    ys = [y]\n",
    "    for x in xs[:-1]:\n",
    "        k1 = h * f(x,y)\n",
    "        k2 = h * f(x + h , y + k1)\n",
    "        y = y + (k1 + k2)/2\n",
    "        ys.append(y)\n",
    "    return xs, ys\n",
    "for n in ns:\n",
    "    xs, ys = heun(func, y0, x0, x1, n)\n",
    "    print(f'n = {n:6}: |Δy| = {np.linalg.norm(ys[0]-ys[-1]):8.1e}')"
   ]
  },
  {
   "cell_type": "markdown",
   "metadata": {},
   "source": [
    "***\n",
    "\n",
    "<div class=\"alert alert-warning\">\n",
    "<b>After finishing:</b>\n",
    "<ol><li>\n",
    "Rename your notebook with your name and student number, like `JaneDoe_123456`, using the menu option `File` > `Rename`.\n",
    "</li><li>\n",
    "Evaluate the notebook by means of the menu option `Kernel` > `Restart & Run All` and check that your notebook runs without errors.\n",
    "</li><li>\n",
    "Save the evaluated notebook using the menu option `File` > `Save and Checkpoint`.\n",
    "</li><li>\n",
    "Submit your evaluated notebook by clicking the title of the BlackBoard assignment, attaching it, and clicking the submission button.\n",
    "</li><li>\n",
    "After getting clearance from the exam supervisor, you are free to leave.\n",
    "</li></ol>\n",
    "</div>\n",
    "\n",
    "#### Success!"
   ]
  }
 ],
 "metadata": {
  "kernelspec": {
   "display_name": "Python 3 (ipykernel)",
   "language": "python",
   "name": "python3"
  },
  "language_info": {
   "codemirror_mode": {
    "name": "ipython",
    "version": 3
   },
   "file_extension": ".py",
   "mimetype": "text/x-python",
   "name": "python",
   "nbconvert_exporter": "python",
   "pygments_lexer": "ipython3",
   "version": "3.9.7"
  }
 },
 "nbformat": 4,
 "nbformat_minor": 2
}
