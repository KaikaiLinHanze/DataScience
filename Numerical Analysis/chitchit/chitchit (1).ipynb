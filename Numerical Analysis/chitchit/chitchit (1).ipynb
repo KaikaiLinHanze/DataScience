{
 "cells": [
  {
   "cell_type": "code",
   "execution_count": null,
   "id": "36e07568",
   "metadata": {},
   "outputs": [],
   "source": []
  },
  {
   "cell_type": "code",
   "execution_count": null,
   "id": "cf9f4094",
   "metadata": {},
   "outputs": [],
   "source": [
    "numerator, denominator = x.as_integer_ratio()\n",
    "print(numerator, denominator)\n",
    "x.hex()\n",
    "import struct\n",
    "bits = ''.join(bin(byte).replace('0b', '').rjust(8, '0') for byte in struct.pack('!d', x))\n",
    "print(bits)"
   ]
  },
  {
   "cell_type": "code",
   "execution_count": null,
   "id": "751050a7",
   "metadata": {},
   "outputs": [],
   "source": [
    "#derivative\n",
    "from scipy.misc import derivative\n",
    "\n",
    "order1 = derivative(gamma, 1.0, dx=1e-4, n=1)\n",
    "order2 = derivative(gamma, 1.0, dx=1e-4, n=2)\n"
   ]
  },
  {
   "cell_type": "code",
   "execution_count": null,
   "id": "63f12653",
   "metadata": {},
   "outputs": [],
   "source": [
    "#Integral\n",
    "from scipy import integrate\n",
    "integrate.simpson(y, x)\n",
    "integrate.quad(x2, 0, 4)\n",
    "integrate.romberg(gaussian, 0, 1)\n",
    "integrate.trapezoid(y, x)"
   ]
  },
  {
   "cell_type": "code",
   "execution_count": null,
   "id": "312eae3f",
   "metadata": {},
   "outputs": [],
   "source": [
    "# R00 = I0 using the trapezoid rule with one panel:a=-1,b=1\n",
    "#   h0 = (+1) - (-1) = 2\n",
    "#   I0 = ( f(-1) + f(+1) ) * h0/2 = (1+1) * 2/2 = 2\n",
    "\n",
    "# R10 = I1 using the trapezoid rule with two panels:\n",
    "#   h1 = ( (+1) - (-1) ) / 2 = 2/2 = 1\n",
    "#   I1 = ( f(-1) + 2f(0) + f(+1) ) * h1/2 = (1+2*2+1) * 1/2 = 3\n",
    "\n",
    "# R11 using Romberg integration\n",
    "#   R11 = 4/3 R10 - 1/3 R00 = 4/3 * 3 - 1/3 * 2 = 4 - 2/3 = 3 1/3\n",
    "\n",
    "# Therefore, INT (2-x^2) dx for x = -1 to +1 equals 3 1/3\n",
    "# (Note: this answer is the exact value of the integral in this case)"
   ]
  },
  {
   "cell_type": "code",
   "execution_count": null,
   "id": "6b046b7d",
   "metadata": {},
   "outputs": [],
   "source": [
    "#Root_finding\n",
    "#bisection ,neton ,-root_scaler('bisect','brentq' ,'brenth','ridder','toms748','newton' ,'secant' ,'halley' )\n",
    "from scipy.optimize import bisect,newton ,root_scalar\n",
    "root1 = bisect(g, -4.0, -2.0, xtol=1e-6)\n",
    "print('newton: ',newton_raphson(f, df, 1, 2))\n",
    "print('secant',root_scalar(f,x0=0.05,x1=2, method='secant',rtol=1e-3))"
   ]
  },
  {
   "cell_type": "code",
   "execution_count": null,
   "id": "a5345084",
   "metadata": {},
   "outputs": [],
   "source": [
    "#optimization,minimum,maximum and root_finding\n",
    "#golden\n",
    "from scipy.optimize import  golden,brent,minimize_scalar\n",
    "\n",
    "xmin1 = golden(g, brack=(4.0, 5.0), tol=1e-6)\n",
    "optimize.brent(f,brack=(1,2))\n",
    "\n",
    "minimize_scalar(f,method=’brent’,xtol=1e-6 , brack=(4.0, 5.0))\n",
    "minimize_scalar(method=’bounded’         )\n",
    "minimize_scalar(method=’golden’          )"
   ]
  },
  {
   "cell_type": "code",
   "execution_count": null,
   "id": "1f6e1e88",
   "metadata": {},
   "outputs": [],
   "source": [
    "#Local (multivariate) optimization\n",
    "from scipy.optimize import minimize\n",
    "\n",
    "minimize(method=’Nelder-Mead’)"
   ]
  },
  {
   "cell_type": "code",
   "execution_count": null,
   "id": "db66976f",
   "metadata": {},
   "outputs": [],
   "source": [
    "#Differential equations\n",
    "#Runge-Kutta\n",
    "from scipy.integrate import odeint\n",
    "def pend(y, t, b, c):\n",
    "    return np.array([y[1], -b*y[1] - c*np.sin(y[0])])\n",
    "b = 0.25\n",
    "c = 5.0\n",
    "y0 = np.array([np.pi - 0.1, 0.0])\n",
    "t = np.linspace(0, 10, 101)\n",
    "sol = odeint(pend, y0, t, args=(b, c))\n",
    "plt.plot(t, sol[:, 0], 'b', label=r'$\\theta(t)$')\n",
    "plt.plot(t, sol[:, 1], 'g', label=r'$\\omega(t)$')\n",
    "plt.legend(loc='best')\n",
    "plt.xlabel('t')\n",
    "plt.grid()\n",
    "plt.show()\n",
    "\n",
    "#Runge-Kutta method of order 1, or the Euler method\n",
    "def rungekutta1(f, y0, t, args=()):\n",
    "    n = len(t)\n",
    "    y = np.zeros((n, len(y0)))\n",
    "    y[0] = y0\n",
    "    for i in range(n - 1):\n",
    "        y[i+1] = y[i] + (t[i+1] - t[i]) * f(y[i], t[i], *args)\n",
    "    return y\n",
    "sol = rungekutta1(pend, y0, t, args=(b, c))\n",
    "\n",
    "#Runge-Kutta method of order 2\n",
    "def rungekutta2(f, y0, t, args=()):\n",
    "    n = len(t)\n",
    "    y = np.zeros((n, len(y0)))\n",
    "    y[0] = y0\n",
    "    for i in range(n - 1):\n",
    "        h = t[i+1] - t[i]\n",
    "        y[i+1] = y[i] + h * f(y[i] + f(y[i], t[i], *args) * h / 2., t[i] + h / 2., *args)\n",
    "    return y\n",
    "sol = rungekutta2(pend, y0, t, args=(b, c))\n",
    "#Runge-Kutta method of order 4, \"RK4\"\n",
    "def rungekutta4(f, y0, t, args=()):\n",
    "    n = len(t)\n",
    "    y = np.zeros((n, len(y0)))\n",
    "    y[0] = y0\n",
    "    for i in range(n - 1):\n",
    "        h = t[i+1] - t[i]\n",
    "        k1 = f(y[i], t[i], *args)\n",
    "        k2 = f(y[i] + k1 * h / 2., t[i] + h / 2., *args)\n",
    "        k3 = f(y[i] + k2 * h / 2., t[i] + h / 2., *args)\n",
    "        k4 = f(y[i] + k3 * h, t[i] + h, *args)\n",
    "        y[i+1] = y[i] + (h / 6.) * (k1 + 2*k2 + 2*k3 + k4)\n",
    "    return y\n",
    "sol = rungekutta4(pend, y0, t, args=(b, c))"
   ]
  },
  {
   "cell_type": "code",
   "execution_count": null,
   "id": "a41b5b0e",
   "metadata": {},
   "outputs": [],
   "source": [
    "def midpoint(f, y0, x0, x1, steps):\n",
    "    h = (x1 - x0) / steps\n",
    "    xs = np.linspace(x0, x1, steps + 1)\n",
    "    ys = [y0]\n",
    "    for x in xs[:-1]:\n",
    "        f1 = f(x, y0)\n",
    "        f2 = f(x + 0.5 * h, y0 + 0.5 * h * f1)\n",
    "        y0 = y0 + h * f2\n",
    "        ys.append(y0)\n",
    "    return xs, ys"
   ]
  }
 ],
 "metadata": {
  "kernelspec": {
   "display_name": "Python 3 (ipykernel)",
   "language": "python",
   "name": "python3"
  },
  "language_info": {
   "codemirror_mode": {
    "name": "ipython",
    "version": 3
   },
   "file_extension": ".py",
   "mimetype": "text/x-python",
   "name": "python",
   "nbconvert_exporter": "python",
   "pygments_lexer": "ipython3",
   "version": "3.9.7"
  }
 },
 "nbformat": 4,
 "nbformat_minor": 5
}
