{
 "cells": [
  {
   "cell_type": "code",
   "execution_count": 2,
   "id": "utility-intersection",
   "metadata": {},
   "outputs": [],
   "source": [
    "import networkx as nx"
   ]
  },
  {
   "cell_type": "code",
   "execution_count": 3,
   "id": "surface-thermal",
   "metadata": {},
   "outputs": [],
   "source": [
    "g = nx.Graph()"
   ]
  },
  {
   "cell_type": "code",
   "execution_count": 4,
   "id": "apparent-citation",
   "metadata": {},
   "outputs": [],
   "source": [
    "g.add_edges_from([\n",
    "    ('S', 'A', {'d': 7}),\n",
    "    ('S', 'B', {'d': 2}),\n",
    "    ('S', 'C', {'d': 3}),\n",
    "    ('A', 'B', {'d': 3}),\n",
    "    ('A', 'D', {'d': 4}),\n",
    "    ('B', 'D', {'d': 4}),\n",
    "    ('B', 'H', {'d': 1}),\n",
    "    ('C', 'L', {'d': 2}),\n",
    "    ('D', 'F', {'d': 5}),\n",
    "    ('H', 'F', {'d': 3}),\n",
    "    ('H', 'G', {'d': 2}),\n",
    "    ('G', 'E', {'d': 2}),\n",
    "    ('L', 'I', {'d': 4}),\n",
    "    ('L', 'J', {'d': 4}),\n",
    "    ('I', 'J', {'d': 6}),\n",
    "    ('I', 'K', {'d': 4}),\n",
    "    ('J', 'K', {'d': 4}),\n",
    "    ('E', 'K', {'d': 5}),\n",
    "])"
   ]
  },
  {
   "cell_type": "code",
   "execution_count": 5,
   "id": "existing-cameroon",
   "metadata": {},
   "outputs": [],
   "source": [
    "for edge in g.edges:\n",
    "    distance = g.edges[edge]['d']\n",
    "    g.edges[edge]['w'] = 1/distance"
   ]
  },
  {
   "cell_type": "code",
   "execution_count": 24,
   "id": "supposed-revelation",
   "metadata": {},
   "outputs": [
    {
     "data": {
      "text/plain": [
       "{('S', 'A'): Text(-0.5437507134017583, 0.22212133772435522, '7'),\n",
       " ('S', 'B'): Text(-0.42351500649240315, 0.113077487433177, '2'),\n",
       " ('S', 'C'): Text(-0.07226430151212394, 0.38275757388819864, '3'),\n",
       " ('A', 'B'): Text(-0.6577817033670554, 0.05841774250942984, '3'),\n",
       " ('A', 'D'): Text(-0.8558208593521183, 0.020475937812940714, '4'),\n",
       " ('B', 'D'): Text(-0.735585152442763, -0.08856791247823749, '4'),\n",
       " ('B', 'H'): Text(-0.4817241000074706, -0.19274029989102234, '1'),\n",
       " ('C', 'L'): Text(0.3703451040548075, 0.4894839536595607, '2'),\n",
       " ('D', 'F'): Text(-0.8671106898831161, -0.30489301296635335, '5'),\n",
       " ('H', 'F'): Text(-0.6132496374478237, -0.4090654003791382, '3'),\n",
       " ('H', 'G'): Text(-0.2225059032578545, -0.40690209410403555, '2'),\n",
       " ('L', 'I'): Text(0.7878673973033784, 0.4103757559664114, '4'),\n",
       " ('L', 'J'): Text(0.707804331093558, 0.3671764954487353, '4'),\n",
       " ('G', 'E'): Text(0.1807769257081812, -0.45945834155614607, '2'),\n",
       " ('E', 'K'): Text(0.6118582669265917, -0.2618155396469731, '5'),\n",
       " ('I', 'J'): Text(0.9199369337901795, 0.2873184092243203, '6'),\n",
       " ('I', 'K'): Text(0.9215265397391765, 0.1234267886762837, '4'),\n",
       " ('J', 'K'): Text(0.8414634735293561, 0.08022752815860765, '4')}"
      ]
     },
     "execution_count": 24,
     "metadata": {},
     "output_type": "execute_result"
    },
    {
     "data": {
      "image/png": "[encoded data removed]",
      "text/plain": [
       "<Figure size 432x288 with 1 Axes>"
      ]
     },
     "metadata": {},
     "output_type": "display_data"
    }
   ],
   "source": [
    "pos = nx.spring_layout(g, weight='w', iterations=250)\n",
    "nx.draw_networkx(g, pos=pos)\n",
    "nx.draw_networkx_edge_labels(g, pos=pos, edge_labels=nx.get_edge_attributes(g, 'd'))\n"
   ]
  },
  {
   "cell_type": "code",
   "execution_count": 25,
   "id": "b3db236f",
   "metadata": {},
   "outputs": [
    {
     "name": "stdout",
     "output_type": "stream",
     "text": [
      "{'S': ('S', 0), 'A': ('B', 5), 'B': ('S', 2), 'C': ('S', 3), 'D': ('B', 6), 'H': ('B', 3), 'L': ('C', 5), 'F': ('H', 6), 'G': ('H', 5), 'E': ('G', 7), 'I': ('L', 9), 'J': ('L', 9), 'K': ('E', 12)}\n",
      "['S', 'B', 'H', 'G', 'E']\n"
     ]
    }
   ],
   "source": [
    "class Dijkstra_algorithm():\n",
    "    def __init__(self,start,end, graph) -> None:\n",
    "        self.start = start\n",
    "        self.end = end\n",
    "        self.graph = graph\n",
    "        self.distance = Dijkstra_algorithm.set_inf_distance(self)\n",
    "        self.start_vertex = Dijkstra_algorithm.start_vertex(self)\n",
    "        self.get_distance = Dijkstra_algorithm.get_distance_map(self)\n",
    "\n",
    "    def set_inf_distance(self):\n",
    "        distances = {i: float('infinity') for i in self.graph}\n",
    "        return distances\n",
    "\n",
    "    def start_vertex(self):\n",
    "        self.distance[self.start] = (self.start,0)\n",
    "        self.visited = [self.start]\n",
    "        for neighbor, weight in self.graph[self.start].items():\n",
    "            self.distance[neighbor] = (self.start, weight[\"d\"])\n",
    "        return self.distance\n",
    "    \n",
    "    def get_distance_map(self):\n",
    "        while len(self.visited) != len(self.graph.nodes):\n",
    "        # order the distance of each neighbor\n",
    "            collect = []\n",
    "            for key, value in self.distance.items():\n",
    "                if value != float(\"inf\"):\n",
    "                    collect.append((key,value[1]))\n",
    "            # get the lower one --> if in the visited list pop it\n",
    "            collect = sorted(collect, key=lambda x: x[1])\n",
    "            while collect[0][0] in self.visited:\n",
    "                collect = collect[1:]\n",
    "            self.start_vertex= collect[0][0]\n",
    "            self.visited.append(self.start_vertex)\n",
    "            # order the distances list if not in visted the lowest get neighbor and their distance\n",
    "            for neighbor, weight in self.graph[self.start_vertex].items():\n",
    "                original_value = self.distance[self.start_vertex][1]\n",
    "                if self.distance[neighbor] == float(\"inf\"):\n",
    "                    self.distance[neighbor] = (self.start_vertex, weight[\"d\"]+ original_value)\n",
    "                else:\n",
    "                    current = weight[\"d\"] + original_value\n",
    "                    if current < self.distance[neighbor][1]:\n",
    "                        self.distance[neighbor] = (self.start_vertex, current)\n",
    "        return self.distance\n",
    "    \n",
    "    def get_shortest_path(self):\n",
    "        end_vertex = self.end\n",
    "        collect = []\n",
    "        previous_value = self.distance[end_vertex][1]\n",
    "        while previous_value != 0:\n",
    "            collect.append(end_vertex)\n",
    "            end_vertex = distances[end_vertex][0]\n",
    "            previous_value = distances[end_vertex][1]\n",
    "        collect.append(self.start)\n",
    "        return collect[::-1]\n",
    "\n",
    "algorithm = Dijkstra_algorithm(\"S\",\"E\",g)\n",
    "print(algorithm.get_distance_map())\n",
    "print(algorithm.get_shortest_path())"
   ]
  },
  {
   "cell_type": "code",
   "execution_count": 18,
   "id": "10a6a320",
   "metadata": {},
   "outputs": [
    {
     "name": "stdout",
     "output_type": "stream",
     "text": [
      "{'S': ('S', 0), 'A': ('B', 5), 'B': ('S', 2), 'C': ('S', 3), 'D': ('B', 6), 'H': ('B', 3), 'L': ('C', 5), 'F': ('H', 6), 'G': ('H', 5), 'E': ('G', 7), 'I': ('L', 9), 'J': ('L', 9), 'K': ('E', 12)}\n"
     ]
    }
   ],
   "source": [
    "\n",
    "# get start nodes\n",
    "start_vertex = \"S\"\n",
    "distances = {i: float('infinity') for i in g}\n",
    "distances[start_vertex] = (start_vertex,0)\n",
    "visited = [start_vertex]\n",
    "for neighbor, weight in g[start_vertex].items():\n",
    "        distances[neighbor] = (start_vertex, weight[\"d\"])\n",
    "# get neighbor vertex and their distance\n",
    "while len(visited) != len(g.nodes):\n",
    "    # order the distance of each neighbor\n",
    "    collect = []\n",
    "    for key, value in distances.items():\n",
    "        if value != float(\"inf\"):\n",
    "            collect.append((key,value[1]))\n",
    "    # get the lower one -->if in the visited list pop it\n",
    "    collect = sorted(collect, key=lambda x: x[1])\n",
    "    while collect[0][0] in visited:\n",
    "        collect = collect[1:]\n",
    "    start_vertex = collect[0][0]\n",
    "    visited.append(start_vertex)\n",
    "    # order the distances list if not in visted the lowest get neighbor and their distance\n",
    "    for neighbor, weight in g[start_vertex].items():\n",
    "        original_value = distances[start_vertex][1]\n",
    "        if distances[neighbor] == float(\"inf\"):\n",
    "            distances[neighbor] = (start_vertex, weight[\"d\"]+ original_value)\n",
    "        else:\n",
    "            current = weight[\"d\"] + original_value\n",
    "            if current < distances[neighbor][1]:\n",
    "                distances[neighbor] = (start_vertex, current)\n",
    "print(distances)\n",
    "end_vertex = \"E\"\n",
    "collect = []\n",
    "previous_value = distances[end_vertex][1]\n",
    "previous = distances[end_vertex][0]\n",
    "while previous_value != 0:\n",
    "    collect.append(end_vertex)\n",
    "    end_vertex = distances[end_vertex][0]\n",
    "    previous_value = distances[end_vertex][1]\n",
    "collect.append(end_vertex)\n",
    "print(collect[::-1])\n"
   ]
  },
  {
   "cell_type": "code",
   "execution_count": 106,
   "id": "laughing-welcome",
   "metadata": {},
   "outputs": [],
   "source": [
    "import json\n",
    "with open('graph.json', 'w') as fout:\n",
    "    json.dump(nx.cytoscape_data(g), fout, indent=4)"
   ]
  },
  {
   "cell_type": "code",
   "execution_count": 107,
   "id": "democratic-attendance",
   "metadata": {},
   "outputs": [
    {
     "data": {
      "text/plain": [
       "['S', 'B', 'H', 'G', 'E']"
      ]
     },
     "execution_count": 107,
     "metadata": {},
     "output_type": "execute_result"
    }
   ],
   "source": [
    "nx.shortest_path(g, 'S', 'E', weight='d')"
   ]
  }
 ],
 "metadata": {
  "kernelspec": {
   "display_name": "Python 3 (ipykernel)",
   "language": "python",
   "name": "python3"
  },
  "language_info": {
   "codemirror_mode": {
    "name": "ipython",
    "version": 3
   },
   "file_extension": ".py",
   "mimetype": "text/x-python",
   "name": "python",
   "nbconvert_exporter": "python",
   "pygments_lexer": "ipython3",
   "version": "3.7.3"
  }
 },
 "nbformat": 4,
 "nbformat_minor": 5
}
